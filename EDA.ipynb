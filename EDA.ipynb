{
 "cells": [
  {
   "cell_type": "code",
   "execution_count": 11,
   "id": "7afe8944",
   "metadata": {},
   "outputs": [
    {
     "name": "stderr",
     "output_type": "stream",
     "text": [
      "[nltk_data] Downloading package wordnet to\n",
      "[nltk_data]     C:\\Users\\Archana\\AppData\\Roaming\\nltk_data...\n",
      "[nltk_data]   Package wordnet is already up-to-date!\n",
      "[nltk_data] Downloading package stopwords to\n",
      "[nltk_data]     C:\\Users\\Archana\\AppData\\Roaming\\nltk_data...\n",
      "[nltk_data]   Package stopwords is already up-to-date!\n"
     ]
    }
   ],
   "source": [
    "import pandas as pd\n",
    "import numpy as np\n",
    "from wordcloud import WordCloud\n",
    "import nltk\n",
    "from nltk import word_tokenize, FreqDist\n",
    "from nltk.corpus import stopwords\n",
    "from nltk.stem import WordNetLemmatizer\n",
    "nltk.download\n",
    "nltk.download('wordnet')\n",
    "nltk.download('stopwords')\n",
    "from nltk.tokenize import TweetTokenizer\n",
    "lemmatizer = nltk.stem.WordNetLemmatizer()\n",
    "w_tokenizer = TweetTokenizer()"
   ]
  },
  {
   "cell_type": "code",
   "execution_count": 2,
   "id": "d4caffe5",
   "metadata": {},
   "outputs": [
    {
     "name": "stdout",
     "output_type": "stream",
     "text": [
      "(499743, 24)\n",
      "(161831, 24)\n",
      "Wall time: 2min 49s\n"
     ]
    }
   ],
   "source": [
    "%%time\n",
    "df1 = pd.read_excel('Social_Listening_Excel_SQL_JAN17_AUG20.xlsx')\n",
    "df2 = pd.read_excel('SOCIAL_LISTENING_EXCEL_SQL_SEP`20_MAY`21.xlsx')\n",
    "print(df1.shape)\n",
    "print(df2.shape)"
   ]
  },
  {
   "cell_type": "code",
   "execution_count": 3,
   "id": "e960b2e2",
   "metadata": {},
   "outputs": [
    {
     "name": "stdout",
     "output_type": "stream",
     "text": [
      "(1390, 24)\n",
      "(142, 24)\n"
     ]
    }
   ],
   "source": [
    "print(df1[df1['Content'].isna()].shape)\n",
    "print(df2[df2['Content'].isna()].shape)"
   ]
  },
  {
   "cell_type": "code",
   "execution_count": 4,
   "id": "53398958",
   "metadata": {
    "scrolled": true
   },
   "outputs": [
    {
     "data": {
      "text/html": [
       "<div>\n",
       "<style scoped>\n",
       "    .dataframe tbody tr th:only-of-type {\n",
       "        vertical-align: middle;\n",
       "    }\n",
       "\n",
       "    .dataframe tbody tr th {\n",
       "        vertical-align: top;\n",
       "    }\n",
       "\n",
       "    .dataframe thead th {\n",
       "        text-align: right;\n",
       "    }\n",
       "</style>\n",
       "<table border=\"1\" class=\"dataframe\">\n",
       "  <thead>\n",
       "    <tr style=\"text-align: right;\">\n",
       "      <th></th>\n",
       "      <th>Brand</th>\n",
       "      <th>Year</th>\n",
       "      <th>Month</th>\n",
       "      <th>Date</th>\n",
       "      <th>URL</th>\n",
       "      <th>Domain</th>\n",
       "      <th>Platform</th>\n",
       "      <th>Sentiment</th>\n",
       "      <th>Content</th>\n",
       "      <th>Category_1</th>\n",
       "      <th>...</th>\n",
       "      <th>User_Name</th>\n",
       "      <th>Author_Name</th>\n",
       "      <th>Author_Type</th>\n",
       "      <th>Followers</th>\n",
       "      <th>Profile_Details</th>\n",
       "      <th>Profile_Link</th>\n",
       "      <th>Location</th>\n",
       "      <th>MentionID</th>\n",
       "      <th>Language</th>\n",
       "      <th>File</th>\n",
       "    </tr>\n",
       "  </thead>\n",
       "  <tbody>\n",
       "    <tr>\n",
       "      <th>0</th>\n",
       "      <td>Scorpio</td>\n",
       "      <td>2017</td>\n",
       "      <td>Jan'17</td>\n",
       "      <td>42766.0</td>\n",
       "      <td>https://www.carwale.com/news//news/new-mahindr...</td>\n",
       "      <td>NaN</td>\n",
       "      <td>Mainstream Media</td>\n",
       "      <td>Neutral</td>\n",
       "      <td>16 hours ago - First introduced in 2007, the M...</td>\n",
       "      <td>Classified</td>\n",
       "      <td>...</td>\n",
       "      <td>NaN</td>\n",
       "      <td>NaN</td>\n",
       "      <td>-</td>\n",
       "      <td>0</td>\n",
       "      <td>NaN</td>\n",
       "      <td>NaN</td>\n",
       "      <td>NaN</td>\n",
       "      <td>NaN</td>\n",
       "      <td>NaN</td>\n",
       "      <td>Locobuzz</td>\n",
       "    </tr>\n",
       "    <tr>\n",
       "      <th>1</th>\n",
       "      <td>Scorpio</td>\n",
       "      <td>2017</td>\n",
       "      <td>Jan'17</td>\n",
       "      <td>42766.0</td>\n",
       "      <td>https://www.carwale.com/used/cars-in-hyderabad...</td>\n",
       "      <td>NaN</td>\n",
       "      <td>Mainstream Media</td>\n",
       "      <td>Neutral</td>\n",
       "      <td>1 day ago - CarWale - Used Mahindra Scorpio [2...</td>\n",
       "      <td>Classified</td>\n",
       "      <td>...</td>\n",
       "      <td>NaN</td>\n",
       "      <td>NaN</td>\n",
       "      <td>-</td>\n",
       "      <td>0</td>\n",
       "      <td>NaN</td>\n",
       "      <td>NaN</td>\n",
       "      <td>NaN</td>\n",
       "      <td>NaN</td>\n",
       "      <td>NaN</td>\n",
       "      <td>Locobuzz</td>\n",
       "    </tr>\n",
       "    <tr>\n",
       "      <th>2</th>\n",
       "      <td>Scorpio</td>\n",
       "      <td>2017</td>\n",
       "      <td>Jan'17</td>\n",
       "      <td>42765.0</td>\n",
       "      <td>https://www.carwale.com/used/cars-in-hyderabad...</td>\n",
       "      <td>NaN</td>\n",
       "      <td>Mainstream Media</td>\n",
       "      <td>Neutral</td>\n",
       "      <td>20 hours ago - CarWale - Used Mahindra Scorpio...</td>\n",
       "      <td>Classified</td>\n",
       "      <td>...</td>\n",
       "      <td>NaN</td>\n",
       "      <td>NaN</td>\n",
       "      <td>-</td>\n",
       "      <td>0</td>\n",
       "      <td>NaN</td>\n",
       "      <td>NaN</td>\n",
       "      <td>NaN</td>\n",
       "      <td>NaN</td>\n",
       "      <td>NaN</td>\n",
       "      <td>Locobuzz</td>\n",
       "    </tr>\n",
       "    <tr>\n",
       "      <th>3</th>\n",
       "      <td>Scorpio</td>\n",
       "      <td>2017</td>\n",
       "      <td>Jan'17</td>\n",
       "      <td>42766.0</td>\n",
       "      <td>http://indianautosblog.com/2017/01/2017-mahind...</td>\n",
       "      <td>NaN</td>\n",
       "      <td>Mainstream Media</td>\n",
       "      <td>Neutral</td>\n",
       "      <td>1 hour ago - The 2017 Mahindra Scorpio Getaway...</td>\n",
       "      <td>Classified</td>\n",
       "      <td>...</td>\n",
       "      <td>NaN</td>\n",
       "      <td>NaN</td>\n",
       "      <td>-</td>\n",
       "      <td>0</td>\n",
       "      <td>NaN</td>\n",
       "      <td>NaN</td>\n",
       "      <td>NaN</td>\n",
       "      <td>NaN</td>\n",
       "      <td>NaN</td>\n",
       "      <td>Locobuzz</td>\n",
       "    </tr>\n",
       "    <tr>\n",
       "      <th>4</th>\n",
       "      <td>Scorpio</td>\n",
       "      <td>2017</td>\n",
       "      <td>Jan'17</td>\n",
       "      <td>42765.0</td>\n",
       "      <td>https://www.carwale.com/used/cars-in-kolkata/m...</td>\n",
       "      <td>NaN</td>\n",
       "      <td>Mainstream Media</td>\n",
       "      <td>Neutral</td>\n",
       "      <td>19 hours ago - CarWale - Used Mahindra Scorpio...</td>\n",
       "      <td>Classified</td>\n",
       "      <td>...</td>\n",
       "      <td>NaN</td>\n",
       "      <td>NaN</td>\n",
       "      <td>-</td>\n",
       "      <td>0</td>\n",
       "      <td>NaN</td>\n",
       "      <td>NaN</td>\n",
       "      <td>NaN</td>\n",
       "      <td>NaN</td>\n",
       "      <td>NaN</td>\n",
       "      <td>Locobuzz</td>\n",
       "    </tr>\n",
       "  </tbody>\n",
       "</table>\n",
       "<p>5 rows × 24 columns</p>\n",
       "</div>"
      ],
      "text/plain": [
       "     Brand  Year   Month     Date  \\\n",
       "0  Scorpio  2017  Jan'17  42766.0   \n",
       "1  Scorpio  2017  Jan'17  42766.0   \n",
       "2  Scorpio  2017  Jan'17  42765.0   \n",
       "3  Scorpio  2017  Jan'17  42766.0   \n",
       "4  Scorpio  2017  Jan'17  42765.0   \n",
       "\n",
       "                                                 URL Domain          Platform  \\\n",
       "0  https://www.carwale.com/news//news/new-mahindr...    NaN  Mainstream Media   \n",
       "1  https://www.carwale.com/used/cars-in-hyderabad...    NaN  Mainstream Media   \n",
       "2  https://www.carwale.com/used/cars-in-hyderabad...    NaN  Mainstream Media   \n",
       "3  http://indianautosblog.com/2017/01/2017-mahind...    NaN  Mainstream Media   \n",
       "4  https://www.carwale.com/used/cars-in-kolkata/m...    NaN  Mainstream Media   \n",
       "\n",
       "  Sentiment                                            Content  Category_1  \\\n",
       "0   Neutral  16 hours ago - First introduced in 2007, the M...  Classified   \n",
       "1   Neutral  1 day ago - CarWale - Used Mahindra Scorpio [2...  Classified   \n",
       "2   Neutral  20 hours ago - CarWale - Used Mahindra Scorpio...  Classified   \n",
       "3   Neutral  1 hour ago - The 2017 Mahindra Scorpio Getaway...  Classified   \n",
       "4   Neutral  19 hours ago - CarWale - Used Mahindra Scorpio...  Classified   \n",
       "\n",
       "   ... User_Name Author_Name Author_Type Followers Profile_Details  \\\n",
       "0  ...       NaN         NaN           -         0             NaN   \n",
       "1  ...       NaN         NaN           -         0             NaN   \n",
       "2  ...       NaN         NaN           -         0             NaN   \n",
       "3  ...       NaN         NaN           -         0             NaN   \n",
       "4  ...       NaN         NaN           -         0             NaN   \n",
       "\n",
       "  Profile_Link Location MentionID Language      File  \n",
       "0          NaN      NaN       NaN      NaN  Locobuzz  \n",
       "1          NaN      NaN       NaN      NaN  Locobuzz  \n",
       "2          NaN      NaN       NaN      NaN  Locobuzz  \n",
       "3          NaN      NaN       NaN      NaN  Locobuzz  \n",
       "4          NaN      NaN       NaN      NaN  Locobuzz  \n",
       "\n",
       "[5 rows x 24 columns]"
      ]
     },
     "execution_count": 4,
     "metadata": {},
     "output_type": "execute_result"
    }
   ],
   "source": [
    "df1.head()"
   ]
  },
  {
   "cell_type": "code",
   "execution_count": 5,
   "id": "10cc1597",
   "metadata": {},
   "outputs": [
    {
     "data": {
      "text/plain": [
       "Index(['Brand', 'Year', 'Month', 'Date', 'URL', 'Domain', 'Platform',\n",
       "       'Sentiment', 'Content', 'Category_1', 'Category_2', 'Catgeory_3',\n",
       "       'Category_4', 'Category_5', 'User_Name', 'Author_Name', 'Author_Type',\n",
       "       'Followers', 'Profile_Details', 'Profile_Link', 'Location', 'MentionID',\n",
       "       'Language', 'File'],\n",
       "      dtype='object')"
      ]
     },
     "execution_count": 5,
     "metadata": {},
     "output_type": "execute_result"
    }
   ],
   "source": [
    "df1.columns"
   ]
  },
  {
   "cell_type": "code",
   "execution_count": 6,
   "id": "dc0a8c45",
   "metadata": {},
   "outputs": [
    {
     "data": {
      "text/plain": [
       "Index(['Brand', 'Year', 'Month', 'Date', 'URL', 'Domain', 'Platform',\n",
       "       'Sentiment', 'Content', 'Category_1', 'Category_2', 'Catgeory_3',\n",
       "       'Category_4', 'Category_5', 'User_Name', 'Author_Name', 'Author_Type',\n",
       "       'Followers', 'Profile_Details', 'Profile_Link', 'Location', 'MentionID',\n",
       "       'Language', 'File_1'],\n",
       "      dtype='object')"
      ]
     },
     "execution_count": 6,
     "metadata": {},
     "output_type": "execute_result"
    }
   ],
   "source": [
    "df2.columns"
   ]
  },
  {
   "cell_type": "code",
   "execution_count": 7,
   "id": "203308b7",
   "metadata": {},
   "outputs": [
    {
     "data": {
      "text/plain": [
       "(999486, 3)"
      ]
     },
     "execution_count": 7,
     "metadata": {},
     "output_type": "execute_result"
    }
   ],
   "source": [
    "df = pd.concat([df1[['Brand', 'Sentiment', 'Content']], df1[['Brand', 'Sentiment', 'Content']]], ignore_index=True)\n",
    "df.shape"
   ]
  },
  {
   "cell_type": "code",
   "execution_count": 8,
   "id": "83587d67",
   "metadata": {},
   "outputs": [
    {
     "data": {
      "text/html": [
       "<div>\n",
       "<style scoped>\n",
       "    .dataframe tbody tr th:only-of-type {\n",
       "        vertical-align: middle;\n",
       "    }\n",
       "\n",
       "    .dataframe tbody tr th {\n",
       "        vertical-align: top;\n",
       "    }\n",
       "\n",
       "    .dataframe thead th {\n",
       "        text-align: right;\n",
       "    }\n",
       "</style>\n",
       "<table border=\"1\" class=\"dataframe\">\n",
       "  <thead>\n",
       "    <tr style=\"text-align: right;\">\n",
       "      <th></th>\n",
       "      <th>Brand</th>\n",
       "      <th>Sentiment</th>\n",
       "      <th>Content</th>\n",
       "    </tr>\n",
       "  </thead>\n",
       "  <tbody>\n",
       "    <tr>\n",
       "      <th>0</th>\n",
       "      <td>Scorpio</td>\n",
       "      <td>Neutral</td>\n",
       "      <td>16 hours ago - First introduced in 2007, the M...</td>\n",
       "    </tr>\n",
       "    <tr>\n",
       "      <th>1</th>\n",
       "      <td>Scorpio</td>\n",
       "      <td>Neutral</td>\n",
       "      <td>1 day ago - CarWale - Used Mahindra Scorpio [2...</td>\n",
       "    </tr>\n",
       "    <tr>\n",
       "      <th>2</th>\n",
       "      <td>Scorpio</td>\n",
       "      <td>Neutral</td>\n",
       "      <td>20 hours ago - CarWale - Used Mahindra Scorpio...</td>\n",
       "    </tr>\n",
       "    <tr>\n",
       "      <th>3</th>\n",
       "      <td>Scorpio</td>\n",
       "      <td>Neutral</td>\n",
       "      <td>1 hour ago - The 2017 Mahindra Scorpio Getaway...</td>\n",
       "    </tr>\n",
       "    <tr>\n",
       "      <th>4</th>\n",
       "      <td>Scorpio</td>\n",
       "      <td>Neutral</td>\n",
       "      <td>19 hours ago - CarWale - Used Mahindra Scorpio...</td>\n",
       "    </tr>\n",
       "  </tbody>\n",
       "</table>\n",
       "</div>"
      ],
      "text/plain": [
       "     Brand Sentiment                                            Content\n",
       "0  Scorpio   Neutral  16 hours ago - First introduced in 2007, the M...\n",
       "1  Scorpio   Neutral  1 day ago - CarWale - Used Mahindra Scorpio [2...\n",
       "2  Scorpio   Neutral  20 hours ago - CarWale - Used Mahindra Scorpio...\n",
       "3  Scorpio   Neutral  1 hour ago - The 2017 Mahindra Scorpio Getaway...\n",
       "4  Scorpio   Neutral  19 hours ago - CarWale - Used Mahindra Scorpio..."
      ]
     },
     "execution_count": 8,
     "metadata": {},
     "output_type": "execute_result"
    }
   ],
   "source": [
    "df.head()"
   ]
  },
  {
   "cell_type": "code",
   "execution_count": 9,
   "id": "1d0d6c71",
   "metadata": {
    "scrolled": true
   },
   "outputs": [
    {
     "data": {
      "text/plain": [
       "count    999486.000000\n",
       "mean         26.748335\n",
       "std          49.107054\n",
       "min           0.000000\n",
       "25%           6.000000\n",
       "50%          19.000000\n",
       "75%          32.000000\n",
       "max        4540.000000\n",
       "Name: Content, dtype: float64"
      ]
     },
     "execution_count": 9,
     "metadata": {},
     "output_type": "execute_result"
    }
   ],
   "source": [
    "# checking the content length related stats\n",
    "\n",
    "df['Content'].apply(lambda x: len(x.split()) if type(x) == str else 0).describe()"
   ]
  },
  {
   "cell_type": "code",
   "execution_count": 12,
   "id": "a6444240",
   "metadata": {},
   "outputs": [],
   "source": [
    "def lemmatize_text(text):\n",
    "    return [(lemmatizer.lemmatize(w)) for w in w_tokenizer.tokenize((text))]\n",
    "\n",
    "def remove_punctuation(words):\n",
    "    new_words = []\n",
    "    for word in words:\n",
    "        new_word = re.sub(r'[^\\w\\s]', '', (word))\n",
    "    if new_word != '':\n",
    "       new_words.append(new_word)\n",
    "    return new_words"
   ]
  },
  {
   "cell_type": "code",
   "execution_count": null,
   "id": "74952995",
   "metadata": {},
   "outputs": [],
   "source": [
    "def preprocess_text(text):\n",
    "    # remove hyperlinks\n",
    "    text = re.sub(r'https?:\\/\\/.*[\\r\\n]*', '', text)\n",
    "    # it will remove hashtags. We have to be careful here not to remove \n",
    "    # the whole hashtag because text of hashtags contains huge information. \n",
    "    # only removing the hash # sign from the word\n",
    "    text = re.sub(r'#', '', text)\n",
    "    # it will remove single numeric terms in the text. \n",
    "    text = re.sub(r'[0-9]', '', text)\n",
    "    # remove \n",
    "    text = text.str.lower()\n",
    "    text = re.sub(r'day ago - |hours ago - |hour ago|CarWale', '', text)\n",
    "    return text"
   ]
  }
 ],
 "metadata": {
  "kernelspec": {
   "display_name": "Python 3 (ipykernel)",
   "language": "python",
   "name": "python3"
  },
  "language_info": {
   "codemirror_mode": {
    "name": "ipython",
    "version": 3
   },
   "file_extension": ".py",
   "mimetype": "text/x-python",
   "name": "python",
   "nbconvert_exporter": "python",
   "pygments_lexer": "ipython3",
   "version": "3.8.12"
  }
 },
 "nbformat": 4,
 "nbformat_minor": 5
}
