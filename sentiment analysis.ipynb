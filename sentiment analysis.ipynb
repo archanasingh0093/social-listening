{
 "cells": [
  {
   "cell_type": "code",
   "execution_count": 2,
   "id": "7afe8944",
   "metadata": {
    "scrolled": true
   },
   "outputs": [],
   "source": [
    "import pandas as pd\n",
    "import numpy as np\n",
    "import re\n",
    "from textblob import TextBlob\n",
    "from vaderSentiment.vaderSentiment import SentimentIntensityAnalyzer\n",
    "analyzer = SentimentIntensityAnalyzer()"
   ]
  },
  {
   "cell_type": "code",
   "execution_count": 3,
   "id": "57376667",
   "metadata": {},
   "outputs": [],
   "source": [
    "def getSubjectivity(text):\n",
    "    return TextBlob(text).sentiment.subjectivity\n",
    "  \n",
    "#Create a function to get the polarity\n",
    "def getPolarity(text):\n",
    "    return TextBlob(text).sentiment.polarity\n",
    "  \n",
    "def getAnalysis(score):\n",
    "    if score < 0:\n",
    "        return 'Negative'\n",
    "    elif score == 0:\n",
    "        return 'Neutral'\n",
    "    else:\n",
    "        return 'Positive'"
   ]
  },
  {
   "cell_type": "code",
   "execution_count": 38,
   "id": "1a64eca4",
   "metadata": {
    "scrolled": true
   },
   "outputs": [
    {
     "name": "stderr",
     "output_type": "stream",
     "text": [
      "c:\\users\\archana\\anaconda3\\envs\\social-env\\lib\\site-packages\\openpyxl\\worksheet\\_reader.py:312: UserWarning: Unknown extension is not supported and will be removed\n",
      "  warn(msg)\n"
     ]
    },
    {
     "data": {
      "text/html": [
       "<div>\n",
       "<style scoped>\n",
       "    .dataframe tbody tr th:only-of-type {\n",
       "        vertical-align: middle;\n",
       "    }\n",
       "\n",
       "    .dataframe tbody tr th {\n",
       "        vertical-align: top;\n",
       "    }\n",
       "\n",
       "    .dataframe thead th {\n",
       "        text-align: right;\n",
       "    }\n",
       "</style>\n",
       "<table border=\"1\" class=\"dataframe\">\n",
       "  <thead>\n",
       "    <tr style=\"text-align: right;\">\n",
       "      <th></th>\n",
       "      <th>Sentence</th>\n",
       "      <th>Sentiment (Engine Assigned)</th>\n",
       "      <th>Manual Verification</th>\n",
       "      <th>Corrected Sentiments</th>\n",
       "    </tr>\n",
       "  </thead>\n",
       "  <tbody>\n",
       "    <tr>\n",
       "      <th>0</th>\n",
       "      <td>#mahindra_suv#thar#mahindra_thar @anandmahindr...</td>\n",
       "      <td>Neutral</td>\n",
       "      <td>Correct</td>\n",
       "      <td>NaN</td>\n",
       "    </tr>\n",
       "    <tr>\n",
       "      <th>1</th>\n",
       "      <td>sa sreejith ss mahindra #withyouhmesha</td>\n",
       "      <td>Neutral</td>\n",
       "      <td>Correct</td>\n",
       "      <td>NaN</td>\n",
       "    </tr>\n",
       "    <tr>\n",
       "      <th>2</th>\n",
       "      <td>he is very helpful and explain nature of job a...</td>\n",
       "      <td>Positive</td>\n",
       "      <td>Correct</td>\n",
       "      <td>NaN</td>\n",
       "    </tr>\n",
       "    <tr>\n",
       "      <th>3</th>\n",
       "      <td>thanks mahindra</td>\n",
       "      <td>Positive</td>\n",
       "      <td>Correct</td>\n",
       "      <td>NaN</td>\n",
       "    </tr>\n",
       "    <tr>\n",
       "      <th>4</th>\n",
       "      <td>mujhe eha ka service sacha lga main service se...</td>\n",
       "      <td>Neutral</td>\n",
       "      <td>Incorrect</td>\n",
       "      <td>Positive</td>\n",
       "    </tr>\n",
       "    <tr>\n",
       "      <th>...</th>\n",
       "      <td>...</td>\n",
       "      <td>...</td>\n",
       "      <td>...</td>\n",
       "      <td>...</td>\n",
       "    </tr>\n",
       "    <tr>\n",
       "      <th>95</th>\n",
       "      <td>excellent service experience in pratik automob...</td>\n",
       "      <td>Positive</td>\n",
       "      <td>Correct</td>\n",
       "      <td>NaN</td>\n",
       "    </tr>\n",
       "    <tr>\n",
       "      <th>96</th>\n",
       "      <td>good quality car serves mahindra marazzo m6</td>\n",
       "      <td>Positive</td>\n",
       "      <td>Correct</td>\n",
       "      <td>NaN</td>\n",
       "    </tr>\n",
       "    <tr>\n",
       "      <th>97</th>\n",
       "      <td>excellent service experience at sunshine autos...</td>\n",
       "      <td>Positive</td>\n",
       "      <td>Correct</td>\n",
       "      <td>NaN</td>\n",
       "    </tr>\n",
       "    <tr>\n",
       "      <th>98</th>\n",
       "      <td>when i'm going for top variant of creta petrol...</td>\n",
       "      <td>Neutral</td>\n",
       "      <td>Correct</td>\n",
       "      <td>NaN</td>\n",
       "    </tr>\n",
       "    <tr>\n",
       "      <th>99</th>\n",
       "      <td>kya.price.h</td>\n",
       "      <td>Neutral</td>\n",
       "      <td>Correct</td>\n",
       "      <td>NaN</td>\n",
       "    </tr>\n",
       "  </tbody>\n",
       "</table>\n",
       "<p>100 rows × 4 columns</p>\n",
       "</div>"
      ],
      "text/plain": [
       "                                             Sentence  \\\n",
       "0   #mahindra_suv#thar#mahindra_thar @anandmahindr...   \n",
       "1              sa sreejith ss mahindra #withyouhmesha   \n",
       "2   he is very helpful and explain nature of job a...   \n",
       "3                                     thanks mahindra   \n",
       "4   mujhe eha ka service sacha lga main service se...   \n",
       "..                                                ...   \n",
       "95  excellent service experience in pratik automob...   \n",
       "96        good quality car serves mahindra marazzo m6   \n",
       "97  excellent service experience at sunshine autos...   \n",
       "98  when i'm going for top variant of creta petrol...   \n",
       "99                                        kya.price.h   \n",
       "\n",
       "   Sentiment (Engine Assigned) Manual Verification Corrected Sentiments  \n",
       "0                      Neutral             Correct                  NaN  \n",
       "1                      Neutral             Correct                  NaN  \n",
       "2                     Positive             Correct                  NaN  \n",
       "3                     Positive             Correct                  NaN  \n",
       "4                      Neutral           Incorrect             Positive  \n",
       "..                         ...                 ...                  ...  \n",
       "95                    Positive             Correct                  NaN  \n",
       "96                    Positive             Correct                  NaN  \n",
       "97                    Positive             Correct                  NaN  \n",
       "98                     Neutral             Correct                  NaN  \n",
       "99                     Neutral             Correct                  NaN  \n",
       "\n",
       "[100 rows x 4 columns]"
      ]
     },
     "execution_count": 38,
     "metadata": {},
     "output_type": "execute_result"
    }
   ],
   "source": [
    "validation_data = pd.read_excel('validation_data.xlsx')\n",
    "validation_data = validation_data[['Sentence','Sentiment (Engine Assigned)','Manual Verification','Corrected Sentiments']]\n",
    "validation_data"
   ]
  },
  {
   "cell_type": "code",
   "execution_count": 46,
   "id": "9a3ef3e8",
   "metadata": {},
   "outputs": [],
   "source": [
    "#Vader Sentiment\n",
    "validation_data['vader_score'] = validation_data['Sentence'].apply(lambda x: analyzer.polarity_scores(str(x))['compound'])\n",
    "validation_data['vader_sentiment'] = validation_data['vader_score'].apply(lambda x: 'Positive' if x > 0 else ('Neutral' if x == 0 else 'Negative'))"
   ]
  },
  {
   "cell_type": "code",
   "execution_count": 47,
   "id": "5d2e17a6",
   "metadata": {},
   "outputs": [],
   "source": [
    "#textblob sentiment\n",
    "validation_data['TextBlob_Subjectivity'] =  validation_data['Sentence'].apply(getSubjectivity)\n",
    "validation_data['TextBlob_Polarity'] = validation_data['Sentence'].apply(getPolarity)\n",
    "validation_data['TextBlob_Sentiment'] = validation_data['TextBlob_Polarity'].apply(getAnalysis)"
   ]
  },
  {
   "cell_type": "code",
   "execution_count": 48,
   "id": "eb60765e",
   "metadata": {},
   "outputs": [
    {
     "data": {
      "text/html": [
       "<div>\n",
       "<style scoped>\n",
       "    .dataframe tbody tr th:only-of-type {\n",
       "        vertical-align: middle;\n",
       "    }\n",
       "\n",
       "    .dataframe tbody tr th {\n",
       "        vertical-align: top;\n",
       "    }\n",
       "\n",
       "    .dataframe thead th {\n",
       "        text-align: right;\n",
       "    }\n",
       "</style>\n",
       "<table border=\"1\" class=\"dataframe\">\n",
       "  <thead>\n",
       "    <tr style=\"text-align: right;\">\n",
       "      <th></th>\n",
       "      <th>Sentence</th>\n",
       "      <th>Sentiment (Engine Assigned)</th>\n",
       "      <th>Manual Verification</th>\n",
       "      <th>Corrected Sentiments</th>\n",
       "      <th>TextBlob_Subjectivity</th>\n",
       "      <th>TextBlob_Polarity</th>\n",
       "      <th>TextBlob_Sentiment</th>\n",
       "      <th>vader_score</th>\n",
       "      <th>vader_sentiment</th>\n",
       "    </tr>\n",
       "  </thead>\n",
       "  <tbody>\n",
       "    <tr>\n",
       "      <th>0</th>\n",
       "      <td>#mahindra_suv#thar#mahindra_thar @anandmahindr...</td>\n",
       "      <td>Neutral</td>\n",
       "      <td>Correct</td>\n",
       "      <td>NaN</td>\n",
       "      <td>0.000000</td>\n",
       "      <td>0.000000</td>\n",
       "      <td>Neutral</td>\n",
       "      <td>0.0000</td>\n",
       "      <td>Neutral</td>\n",
       "    </tr>\n",
       "    <tr>\n",
       "      <th>1</th>\n",
       "      <td>sa sreejith ss mahindra #withyouhmesha</td>\n",
       "      <td>Neutral</td>\n",
       "      <td>Correct</td>\n",
       "      <td>NaN</td>\n",
       "      <td>0.000000</td>\n",
       "      <td>0.000000</td>\n",
       "      <td>Neutral</td>\n",
       "      <td>0.0000</td>\n",
       "      <td>Neutral</td>\n",
       "    </tr>\n",
       "    <tr>\n",
       "      <th>2</th>\n",
       "      <td>he is very helpful and explain nature of job a...</td>\n",
       "      <td>Positive</td>\n",
       "      <td>Correct</td>\n",
       "      <td>NaN</td>\n",
       "      <td>0.650000</td>\n",
       "      <td>0.350000</td>\n",
       "      <td>Positive</td>\n",
       "      <td>0.7328</td>\n",
       "      <td>Positive</td>\n",
       "    </tr>\n",
       "    <tr>\n",
       "      <th>3</th>\n",
       "      <td>thanks mahindra</td>\n",
       "      <td>Positive</td>\n",
       "      <td>Correct</td>\n",
       "      <td>NaN</td>\n",
       "      <td>0.200000</td>\n",
       "      <td>0.200000</td>\n",
       "      <td>Positive</td>\n",
       "      <td>0.4404</td>\n",
       "      <td>Positive</td>\n",
       "    </tr>\n",
       "    <tr>\n",
       "      <th>4</th>\n",
       "      <td>mujhe eha ka service sacha lga main service se...</td>\n",
       "      <td>Neutral</td>\n",
       "      <td>Incorrect</td>\n",
       "      <td>Positive</td>\n",
       "      <td>0.333333</td>\n",
       "      <td>0.166667</td>\n",
       "      <td>Positive</td>\n",
       "      <td>0.0000</td>\n",
       "      <td>Neutral</td>\n",
       "    </tr>\n",
       "    <tr>\n",
       "      <th>...</th>\n",
       "      <td>...</td>\n",
       "      <td>...</td>\n",
       "      <td>...</td>\n",
       "      <td>...</td>\n",
       "      <td>...</td>\n",
       "      <td>...</td>\n",
       "      <td>...</td>\n",
       "      <td>...</td>\n",
       "      <td>...</td>\n",
       "    </tr>\n",
       "    <tr>\n",
       "      <th>95</th>\n",
       "      <td>excellent service experience in pratik automob...</td>\n",
       "      <td>Positive</td>\n",
       "      <td>Correct</td>\n",
       "      <td>NaN</td>\n",
       "      <td>0.933333</td>\n",
       "      <td>0.800000</td>\n",
       "      <td>Positive</td>\n",
       "      <td>0.8934</td>\n",
       "      <td>Positive</td>\n",
       "    </tr>\n",
       "    <tr>\n",
       "      <th>96</th>\n",
       "      <td>good quality car serves mahindra marazzo m6</td>\n",
       "      <td>Positive</td>\n",
       "      <td>Correct</td>\n",
       "      <td>NaN</td>\n",
       "      <td>0.600000</td>\n",
       "      <td>0.700000</td>\n",
       "      <td>Positive</td>\n",
       "      <td>0.4404</td>\n",
       "      <td>Positive</td>\n",
       "    </tr>\n",
       "    <tr>\n",
       "      <th>97</th>\n",
       "      <td>excellent service experience at sunshine autos...</td>\n",
       "      <td>Positive</td>\n",
       "      <td>Correct</td>\n",
       "      <td>NaN</td>\n",
       "      <td>0.600000</td>\n",
       "      <td>0.600000</td>\n",
       "      <td>Positive</td>\n",
       "      <td>0.8689</td>\n",
       "      <td>Positive</td>\n",
       "    </tr>\n",
       "    <tr>\n",
       "      <th>98</th>\n",
       "      <td>when i'm going for top variant of creta petrol...</td>\n",
       "      <td>Neutral</td>\n",
       "      <td>Correct</td>\n",
       "      <td>NaN</td>\n",
       "      <td>0.500000</td>\n",
       "      <td>0.500000</td>\n",
       "      <td>Positive</td>\n",
       "      <td>0.2023</td>\n",
       "      <td>Positive</td>\n",
       "    </tr>\n",
       "    <tr>\n",
       "      <th>99</th>\n",
       "      <td>kya.price.h</td>\n",
       "      <td>Neutral</td>\n",
       "      <td>Correct</td>\n",
       "      <td>NaN</td>\n",
       "      <td>0.000000</td>\n",
       "      <td>0.000000</td>\n",
       "      <td>Neutral</td>\n",
       "      <td>0.0000</td>\n",
       "      <td>Neutral</td>\n",
       "    </tr>\n",
       "  </tbody>\n",
       "</table>\n",
       "<p>100 rows × 9 columns</p>\n",
       "</div>"
      ],
      "text/plain": [
       "                                             Sentence  \\\n",
       "0   #mahindra_suv#thar#mahindra_thar @anandmahindr...   \n",
       "1              sa sreejith ss mahindra #withyouhmesha   \n",
       "2   he is very helpful and explain nature of job a...   \n",
       "3                                     thanks mahindra   \n",
       "4   mujhe eha ka service sacha lga main service se...   \n",
       "..                                                ...   \n",
       "95  excellent service experience in pratik automob...   \n",
       "96        good quality car serves mahindra marazzo m6   \n",
       "97  excellent service experience at sunshine autos...   \n",
       "98  when i'm going for top variant of creta petrol...   \n",
       "99                                        kya.price.h   \n",
       "\n",
       "   Sentiment (Engine Assigned) Manual Verification Corrected Sentiments  \\\n",
       "0                      Neutral             Correct                  NaN   \n",
       "1                      Neutral             Correct                  NaN   \n",
       "2                     Positive             Correct                  NaN   \n",
       "3                     Positive             Correct                  NaN   \n",
       "4                      Neutral           Incorrect             Positive   \n",
       "..                         ...                 ...                  ...   \n",
       "95                    Positive             Correct                  NaN   \n",
       "96                    Positive             Correct                  NaN   \n",
       "97                    Positive             Correct                  NaN   \n",
       "98                     Neutral             Correct                  NaN   \n",
       "99                     Neutral             Correct                  NaN   \n",
       "\n",
       "    TextBlob_Subjectivity  TextBlob_Polarity TextBlob_Sentiment  vader_score  \\\n",
       "0                0.000000           0.000000            Neutral       0.0000   \n",
       "1                0.000000           0.000000            Neutral       0.0000   \n",
       "2                0.650000           0.350000           Positive       0.7328   \n",
       "3                0.200000           0.200000           Positive       0.4404   \n",
       "4                0.333333           0.166667           Positive       0.0000   \n",
       "..                    ...                ...                ...          ...   \n",
       "95               0.933333           0.800000           Positive       0.8934   \n",
       "96               0.600000           0.700000           Positive       0.4404   \n",
       "97               0.600000           0.600000           Positive       0.8689   \n",
       "98               0.500000           0.500000           Positive       0.2023   \n",
       "99               0.000000           0.000000            Neutral       0.0000   \n",
       "\n",
       "   vader_sentiment  \n",
       "0          Neutral  \n",
       "1          Neutral  \n",
       "2         Positive  \n",
       "3         Positive  \n",
       "4          Neutral  \n",
       "..             ...  \n",
       "95        Positive  \n",
       "96        Positive  \n",
       "97        Positive  \n",
       "98        Positive  \n",
       "99         Neutral  \n",
       "\n",
       "[100 rows x 9 columns]"
      ]
     },
     "execution_count": 48,
     "metadata": {},
     "output_type": "execute_result"
    }
   ],
   "source": [
    "validation_data"
   ]
  },
  {
   "cell_type": "code",
   "execution_count": 49,
   "id": "42a52252",
   "metadata": {},
   "outputs": [
    {
     "data": {
      "text/plain": [
       "Index(['Sentence', 'Sentiment (Engine Assigned)', 'Manual Verification',\n",
       "       'Corrected Sentiments', 'TextBlob_Subjectivity', 'TextBlob_Polarity',\n",
       "       'TextBlob_Sentiment', 'vader_score', 'vader_sentiment'],\n",
       "      dtype='object')"
      ]
     },
     "execution_count": 49,
     "metadata": {},
     "output_type": "execute_result"
    }
   ],
   "source": [
    "validation_data.columns"
   ]
  },
  {
   "cell_type": "code",
   "execution_count": 50,
   "id": "0b0b533e",
   "metadata": {},
   "outputs": [],
   "source": [
    "validation_data['vader_correctness'] = validation_data.apply(lambda x: x['Sentiment (Engine Assigned)'].lower() == x.vader_sentiment.lower() if x['Manual Verification'] == 'Correct' else x['Corrected Sentiments'].lower() == x.vader_sentiment.lower(), axis=1)"
   ]
  },
  {
   "cell_type": "code",
   "execution_count": 51,
   "id": "d1cbac8c",
   "metadata": {},
   "outputs": [
    {
     "data": {
      "text/plain": [
       "True     90\n",
       "False    10\n",
       "Name: vader_correctness, dtype: int64"
      ]
     },
     "execution_count": 51,
     "metadata": {},
     "output_type": "execute_result"
    }
   ],
   "source": [
    "validation_data['vader_correctness'].value_counts()"
   ]
  },
  {
   "cell_type": "code",
   "execution_count": 52,
   "id": "ecab5c27",
   "metadata": {},
   "outputs": [],
   "source": [
    "validation_data['textblob_correctness'] = validation_data.apply(lambda x: x['Sentiment (Engine Assigned)'].lower() == x.TextBlob_Sentiment.lower() if x['Manual Verification'] == 'Correct' else x['Corrected Sentiments'].lower() == x.TextBlob_Sentiment.lower(), axis=1)"
   ]
  },
  {
   "cell_type": "code",
   "execution_count": 53,
   "id": "fa7d1a49",
   "metadata": {},
   "outputs": [
    {
     "data": {
      "text/plain": [
       "True     86\n",
       "False    14\n",
       "Name: textblob_correctness, dtype: int64"
      ]
     },
     "execution_count": 53,
     "metadata": {},
     "output_type": "execute_result"
    }
   ],
   "source": [
    "validation_data['textblob_correctness'].value_counts()"
   ]
  },
  {
   "cell_type": "code",
   "execution_count": 54,
   "id": "cb1808f5",
   "metadata": {},
   "outputs": [
    {
     "data": {
      "text/plain": [
       "Correct      95\n",
       "Incorrect     5\n",
       "Name: Manual Verification, dtype: int64"
      ]
     },
     "execution_count": 54,
     "metadata": {},
     "output_type": "execute_result"
    }
   ],
   "source": [
    "validation_data['Manual Verification'].value_counts()"
   ]
  },
  {
   "cell_type": "code",
   "execution_count": 55,
   "id": "c90332bb",
   "metadata": {},
   "outputs": [],
   "source": [
    "validation_data.to_excel('sentiment_validation.xlsx')"
   ]
  },
  {
   "cell_type": "code",
   "execution_count": 4,
   "id": "d4caffe5",
   "metadata": {},
   "outputs": [
    {
     "name": "stdout",
     "output_type": "stream",
     "text": [
      "Wall time: 3min 19s\n"
     ]
    },
    {
     "data": {
      "text/plain": [
       "(999486, 3)"
      ]
     },
     "execution_count": 4,
     "metadata": {},
     "output_type": "execute_result"
    }
   ],
   "source": [
    "%%time\n",
    "df1 = pd.read_excel('Social_Listening_Excel_SQL_JAN17_AUG20.xlsx')\n",
    "df2 = pd.read_excel('SOCIAL_LISTENING_EXCEL_SQL_SEP`20_MAY`21.xlsx')\n",
    "df = pd.concat([df1[['Brand', 'Sentiment', 'Content']], df1[['Brand', 'Sentiment', 'Content']]], ignore_index=True)\n",
    "df.shape"
   ]
  },
  {
   "cell_type": "code",
   "execution_count": 5,
   "id": "67a33861",
   "metadata": {
    "scrolled": true
   },
   "outputs": [
    {
     "data": {
      "text/html": [
       "<div>\n",
       "<style scoped>\n",
       "    .dataframe tbody tr th:only-of-type {\n",
       "        vertical-align: middle;\n",
       "    }\n",
       "\n",
       "    .dataframe tbody tr th {\n",
       "        vertical-align: top;\n",
       "    }\n",
       "\n",
       "    .dataframe thead th {\n",
       "        text-align: right;\n",
       "    }\n",
       "</style>\n",
       "<table border=\"1\" class=\"dataframe\">\n",
       "  <thead>\n",
       "    <tr style=\"text-align: right;\">\n",
       "      <th></th>\n",
       "      <th>Brand</th>\n",
       "      <th>Sentiment</th>\n",
       "      <th>Content</th>\n",
       "    </tr>\n",
       "  </thead>\n",
       "  <tbody>\n",
       "    <tr>\n",
       "      <th>0</th>\n",
       "      <td>Scorpio</td>\n",
       "      <td>Neutral</td>\n",
       "      <td>16 hours ago - First introduced in 2007, the M...</td>\n",
       "    </tr>\n",
       "    <tr>\n",
       "      <th>1</th>\n",
       "      <td>Scorpio</td>\n",
       "      <td>Neutral</td>\n",
       "      <td>1 day ago - CarWale - Used Mahindra Scorpio [2...</td>\n",
       "    </tr>\n",
       "    <tr>\n",
       "      <th>2</th>\n",
       "      <td>Scorpio</td>\n",
       "      <td>Neutral</td>\n",
       "      <td>20 hours ago - CarWale - Used Mahindra Scorpio...</td>\n",
       "    </tr>\n",
       "    <tr>\n",
       "      <th>3</th>\n",
       "      <td>Scorpio</td>\n",
       "      <td>Neutral</td>\n",
       "      <td>1 hour ago - The 2017 Mahindra Scorpio Getaway...</td>\n",
       "    </tr>\n",
       "    <tr>\n",
       "      <th>4</th>\n",
       "      <td>Scorpio</td>\n",
       "      <td>Neutral</td>\n",
       "      <td>19 hours ago - CarWale - Used Mahindra Scorpio...</td>\n",
       "    </tr>\n",
       "  </tbody>\n",
       "</table>\n",
       "</div>"
      ],
      "text/plain": [
       "     Brand Sentiment                                            Content\n",
       "0  Scorpio   Neutral  16 hours ago - First introduced in 2007, the M...\n",
       "1  Scorpio   Neutral  1 day ago - CarWale - Used Mahindra Scorpio [2...\n",
       "2  Scorpio   Neutral  20 hours ago - CarWale - Used Mahindra Scorpio...\n",
       "3  Scorpio   Neutral  1 hour ago - The 2017 Mahindra Scorpio Getaway...\n",
       "4  Scorpio   Neutral  19 hours ago - CarWale - Used Mahindra Scorpio..."
      ]
     },
     "execution_count": 5,
     "metadata": {},
     "output_type": "execute_result"
    }
   ],
   "source": [
    "df.head()"
   ]
  },
  {
   "cell_type": "code",
   "execution_count": 6,
   "id": "336cdfa7",
   "metadata": {},
   "outputs": [],
   "source": [
    "def preprocess_df(df):\n",
    "    df = df.copy()\n",
    "    df = df[~df['Content'].isna()]\n",
    "    df.drop_duplicates(subset=['Content'], inplace=True)\n",
    "    return df"
   ]
  },
  {
   "cell_type": "code",
   "execution_count": 7,
   "id": "1798be8a",
   "metadata": {},
   "outputs": [
    {
     "data": {
      "text/plain": [
       "(996706, 3)"
      ]
     },
     "execution_count": 7,
     "metadata": {},
     "output_type": "execute_result"
    }
   ],
   "source": [
    "df[~df['Content'].isna()].shape"
   ]
  },
  {
   "cell_type": "code",
   "execution_count": 8,
   "id": "91125204",
   "metadata": {},
   "outputs": [
    {
     "data": {
      "text/plain": [
       "302462"
      ]
     },
     "execution_count": 8,
     "metadata": {},
     "output_type": "execute_result"
    }
   ],
   "source": [
    "df[~df['Content'].isna()].Content.nunique()"
   ]
  },
  {
   "cell_type": "code",
   "execution_count": 10,
   "id": "f1547a74",
   "metadata": {},
   "outputs": [
    {
     "data": {
      "text/plain": [
       "(302462, 3)"
      ]
     },
     "execution_count": 10,
     "metadata": {},
     "output_type": "execute_result"
    }
   ],
   "source": [
    "processed_df = preprocess_df(df)\n",
    "processed_df.shape"
   ]
  },
  {
   "cell_type": "code",
   "execution_count": 11,
   "id": "bde50892",
   "metadata": {},
   "outputs": [],
   "source": [
    "def preprocess_text(text):\n",
    "    # remove hyperlinks\n",
    "    text = re.sub(r'https?:\\/\\/.*[\\r\\n]*', '', text)\n",
    "    # it will remove hashtags. We have to be careful here not to remove \n",
    "    # the whole hashtag because text of hashtags contains huge information. \n",
    "    # only removing the hash # sign from the word\n",
    "    text = re.sub(r'#', '', text)\n",
    "    # it will remove single numeric terms in the text. \n",
    "    text = re.sub(r'[0-9]', '', text)\n",
    "    # remove \n",
    "    text = re.sub('@[^\\s]+', '', text)\n",
    "    text = re.sub(r'day ago - |hours ago - |hour ago|CarWale', '', text)\n",
    "    return text"
   ]
  },
  {
   "cell_type": "code",
   "execution_count": 19,
   "id": "f47816ca",
   "metadata": {},
   "outputs": [],
   "source": [
    "# preprocess_text('@anandmahindra how are you doing https://t.co/dngwphbRES. ')"
   ]
  },
  {
   "cell_type": "code",
   "execution_count": 12,
   "id": "778afdc8",
   "metadata": {},
   "outputs": [
    {
     "name": "stdout",
     "output_type": "stream",
     "text": [
      "Wall time: 2.65 s\n"
     ]
    }
   ],
   "source": [
    "%%time\n",
    "processed_df['processed_content'] = processed_df['Content'].apply(lambda x: preprocess_text(str(x)))"
   ]
  },
  {
   "cell_type": "code",
   "execution_count": 13,
   "id": "441d4791",
   "metadata": {},
   "outputs": [
    {
     "data": {
      "text/html": [
       "<div>\n",
       "<style scoped>\n",
       "    .dataframe tbody tr th:only-of-type {\n",
       "        vertical-align: middle;\n",
       "    }\n",
       "\n",
       "    .dataframe tbody tr th {\n",
       "        vertical-align: top;\n",
       "    }\n",
       "\n",
       "    .dataframe thead th {\n",
       "        text-align: right;\n",
       "    }\n",
       "</style>\n",
       "<table border=\"1\" class=\"dataframe\">\n",
       "  <thead>\n",
       "    <tr style=\"text-align: right;\">\n",
       "      <th></th>\n",
       "      <th>Brand</th>\n",
       "      <th>Sentiment</th>\n",
       "      <th>Content</th>\n",
       "      <th>processed_content</th>\n",
       "    </tr>\n",
       "  </thead>\n",
       "  <tbody>\n",
       "    <tr>\n",
       "      <th>0</th>\n",
       "      <td>Scorpio</td>\n",
       "      <td>Neutral</td>\n",
       "      <td>16 hours ago - First introduced in 2007, the M...</td>\n",
       "      <td>First introduced in , the Mahindra Getaway is...</td>\n",
       "    </tr>\n",
       "    <tr>\n",
       "      <th>1</th>\n",
       "      <td>Scorpio</td>\n",
       "      <td>Neutral</td>\n",
       "      <td>1 day ago - CarWale - Used Mahindra Scorpio [2...</td>\n",
       "      <td>- Used Mahindra Scorpio [-] Ex for sale in H...</td>\n",
       "    </tr>\n",
       "    <tr>\n",
       "      <th>2</th>\n",
       "      <td>Scorpio</td>\n",
       "      <td>Neutral</td>\n",
       "      <td>20 hours ago - CarWale - Used Mahindra Scorpio...</td>\n",
       "      <td>- Used Mahindra Scorpio [-] Ex for sale in H...</td>\n",
       "    </tr>\n",
       "    <tr>\n",
       "      <th>3</th>\n",
       "      <td>Scorpio</td>\n",
       "      <td>Neutral</td>\n",
       "      <td>1 hour ago - The 2017 Mahindra Scorpio Getaway...</td>\n",
       "      <td>- The  Mahindra Scorpio Getaway has been spo...</td>\n",
       "    </tr>\n",
       "    <tr>\n",
       "      <th>4</th>\n",
       "      <td>Scorpio</td>\n",
       "      <td>Neutral</td>\n",
       "      <td>19 hours ago - CarWale - Used Mahindra Scorpio...</td>\n",
       "      <td>- Used Mahindra Scorpio [-] VLX WD BS-III fo...</td>\n",
       "    </tr>\n",
       "  </tbody>\n",
       "</table>\n",
       "</div>"
      ],
      "text/plain": [
       "     Brand Sentiment                                            Content  \\\n",
       "0  Scorpio   Neutral  16 hours ago - First introduced in 2007, the M...   \n",
       "1  Scorpio   Neutral  1 day ago - CarWale - Used Mahindra Scorpio [2...   \n",
       "2  Scorpio   Neutral  20 hours ago - CarWale - Used Mahindra Scorpio...   \n",
       "3  Scorpio   Neutral  1 hour ago - The 2017 Mahindra Scorpio Getaway...   \n",
       "4  Scorpio   Neutral  19 hours ago - CarWale - Used Mahindra Scorpio...   \n",
       "\n",
       "                                   processed_content  \n",
       "0   First introduced in , the Mahindra Getaway is...  \n",
       "1    - Used Mahindra Scorpio [-] Ex for sale in H...  \n",
       "2    - Used Mahindra Scorpio [-] Ex for sale in H...  \n",
       "3    - The  Mahindra Scorpio Getaway has been spo...  \n",
       "4    - Used Mahindra Scorpio [-] VLX WD BS-III fo...  "
      ]
     },
     "execution_count": 13,
     "metadata": {},
     "output_type": "execute_result"
    }
   ],
   "source": [
    "processed_df.head()"
   ]
  },
  {
   "cell_type": "code",
   "execution_count": 14,
   "id": "0d497b81",
   "metadata": {},
   "outputs": [],
   "source": [
    "#Vader Sentiment\n",
    "processed_df['vader_score'] = processed_df['processed_content'].apply(lambda x: analyzer.polarity_scores(str(x))['compound'])\n",
    "processed_df['vader_sentiment'] = processed_df['vader_score'].apply(lambda x: 'Positive' if x > 0 else ('Neutral' if x == 0 else 'Negative'))"
   ]
  },
  {
   "cell_type": "code",
   "execution_count": 15,
   "id": "95c5628d",
   "metadata": {},
   "outputs": [],
   "source": [
    "#textblob sentiment\n",
    "processed_df['TextBlob_Subjectivity'] =  processed_df['processed_content'].apply(getSubjectivity)\n",
    "processed_df['TextBlob_Polarity'] = processed_df['processed_content'].apply(getPolarity)\n",
    "processed_df['TextBlob_Sentiment'] = processed_df['TextBlob_Polarity'].apply(getAnalysis)"
   ]
  },
  {
   "cell_type": "code",
   "execution_count": 16,
   "id": "02303ec7",
   "metadata": {},
   "outputs": [
    {
     "data": {
      "text/html": [
       "<div>\n",
       "<style scoped>\n",
       "    .dataframe tbody tr th:only-of-type {\n",
       "        vertical-align: middle;\n",
       "    }\n",
       "\n",
       "    .dataframe tbody tr th {\n",
       "        vertical-align: top;\n",
       "    }\n",
       "\n",
       "    .dataframe thead th {\n",
       "        text-align: right;\n",
       "    }\n",
       "</style>\n",
       "<table border=\"1\" class=\"dataframe\">\n",
       "  <thead>\n",
       "    <tr style=\"text-align: right;\">\n",
       "      <th></th>\n",
       "      <th>Brand</th>\n",
       "      <th>Sentiment</th>\n",
       "      <th>Content</th>\n",
       "      <th>processed_content</th>\n",
       "      <th>vader_score</th>\n",
       "      <th>vader_sentiment</th>\n",
       "      <th>TextBlob_Subjectivity</th>\n",
       "      <th>TextBlob_Polarity</th>\n",
       "      <th>TextBlob_Sentiment</th>\n",
       "    </tr>\n",
       "  </thead>\n",
       "  <tbody>\n",
       "    <tr>\n",
       "      <th>0</th>\n",
       "      <td>Scorpio</td>\n",
       "      <td>Neutral</td>\n",
       "      <td>16 hours ago - First introduced in 2007, the M...</td>\n",
       "      <td>First introduced in , the Mahindra Getaway is...</td>\n",
       "      <td>0.3612</td>\n",
       "      <td>Positive</td>\n",
       "      <td>0.202083</td>\n",
       "      <td>-0.01875</td>\n",
       "      <td>Negative</td>\n",
       "    </tr>\n",
       "    <tr>\n",
       "      <th>1</th>\n",
       "      <td>Scorpio</td>\n",
       "      <td>Neutral</td>\n",
       "      <td>1 day ago - CarWale - Used Mahindra Scorpio [2...</td>\n",
       "      <td>- Used Mahindra Scorpio [-] Ex for sale in H...</td>\n",
       "      <td>0.0772</td>\n",
       "      <td>Positive</td>\n",
       "      <td>0.000000</td>\n",
       "      <td>0.00000</td>\n",
       "      <td>Neutral</td>\n",
       "    </tr>\n",
       "    <tr>\n",
       "      <th>2</th>\n",
       "      <td>Scorpio</td>\n",
       "      <td>Neutral</td>\n",
       "      <td>20 hours ago - CarWale - Used Mahindra Scorpio...</td>\n",
       "      <td>- Used Mahindra Scorpio [-] Ex for sale in H...</td>\n",
       "      <td>0.0772</td>\n",
       "      <td>Positive</td>\n",
       "      <td>0.000000</td>\n",
       "      <td>0.00000</td>\n",
       "      <td>Neutral</td>\n",
       "    </tr>\n",
       "    <tr>\n",
       "      <th>3</th>\n",
       "      <td>Scorpio</td>\n",
       "      <td>Neutral</td>\n",
       "      <td>1 hour ago - The 2017 Mahindra Scorpio Getaway...</td>\n",
       "      <td>- The  Mahindra Scorpio Getaway has been spo...</td>\n",
       "      <td>0.0000</td>\n",
       "      <td>Neutral</td>\n",
       "      <td>0.000000</td>\n",
       "      <td>0.00000</td>\n",
       "      <td>Neutral</td>\n",
       "    </tr>\n",
       "    <tr>\n",
       "      <th>4</th>\n",
       "      <td>Scorpio</td>\n",
       "      <td>Neutral</td>\n",
       "      <td>19 hours ago - CarWale - Used Mahindra Scorpio...</td>\n",
       "      <td>- Used Mahindra Scorpio [-] VLX WD BS-III fo...</td>\n",
       "      <td>0.6633</td>\n",
       "      <td>Positive</td>\n",
       "      <td>0.000000</td>\n",
       "      <td>0.00000</td>\n",
       "      <td>Neutral</td>\n",
       "    </tr>\n",
       "    <tr>\n",
       "      <th>...</th>\n",
       "      <td>...</td>\n",
       "      <td>...</td>\n",
       "      <td>...</td>\n",
       "      <td>...</td>\n",
       "      <td>...</td>\n",
       "      <td>...</td>\n",
       "      <td>...</td>\n",
       "      <td>...</td>\n",
       "      <td>...</td>\n",
       "    </tr>\n",
       "    <tr>\n",
       "      <th>499738</th>\n",
       "      <td>Marazzo</td>\n",
       "      <td>Neutral</td>\n",
       "      <td>@anandmahindra https://t.co/dngwphbRES.  The p...</td>\n",
       "      <td></td>\n",
       "      <td>0.0000</td>\n",
       "      <td>Neutral</td>\n",
       "      <td>0.000000</td>\n",
       "      <td>0.00000</td>\n",
       "      <td>Neutral</td>\n",
       "    </tr>\n",
       "    <tr>\n",
       "      <th>499739</th>\n",
       "      <td>Marazzo</td>\n",
       "      <td>Neutral</td>\n",
       "      <td>@anandmahindra सर आप यह गाड़ी महान है अपने देश...</td>\n",
       "      <td>सर आप यह गाड़ी महान है अपने देश को अच्छा तोहफ...</td>\n",
       "      <td>0.3182</td>\n",
       "      <td>Positive</td>\n",
       "      <td>0.000000</td>\n",
       "      <td>0.00000</td>\n",
       "      <td>Neutral</td>\n",
       "    </tr>\n",
       "    <tr>\n",
       "      <th>499740</th>\n",
       "      <td>Marazzo</td>\n",
       "      <td>Neutral</td>\n",
       "      <td>Mahindra Marazzo review. The shark inspired MU...</td>\n",
       "      <td>Mahindra Marazzo review. The shark inspired MU...</td>\n",
       "      <td>0.7345</td>\n",
       "      <td>Positive</td>\n",
       "      <td>0.550000</td>\n",
       "      <td>0.43750</td>\n",
       "      <td>Positive</td>\n",
       "    </tr>\n",
       "    <tr>\n",
       "      <th>499741</th>\n",
       "      <td>Marazzo</td>\n",
       "      <td>Neutral</td>\n",
       "      <td>Mahindra cars price list in India *All prices ...</td>\n",
       "      <td>Mahindra cars price list in India *All prices ...</td>\n",
       "      <td>0.8000</td>\n",
       "      <td>Positive</td>\n",
       "      <td>0.488889</td>\n",
       "      <td>0.50000</td>\n",
       "      <td>Positive</td>\n",
       "    </tr>\n",
       "    <tr>\n",
       "      <th>499742</th>\n",
       "      <td>Marazzo</td>\n",
       "      <td>Negative</td>\n",
       "      <td>Sir,  1  I had taken my marazzo m8 Car   Reg N...</td>\n",
       "      <td>Sir,    I had taken my marazzo m Car   Reg No ...</td>\n",
       "      <td>-0.0631</td>\n",
       "      <td>Negative</td>\n",
       "      <td>0.428333</td>\n",
       "      <td>0.16500</td>\n",
       "      <td>Positive</td>\n",
       "    </tr>\n",
       "  </tbody>\n",
       "</table>\n",
       "<p>302462 rows × 9 columns</p>\n",
       "</div>"
      ],
      "text/plain": [
       "          Brand Sentiment                                            Content  \\\n",
       "0       Scorpio   Neutral  16 hours ago - First introduced in 2007, the M...   \n",
       "1       Scorpio   Neutral  1 day ago - CarWale - Used Mahindra Scorpio [2...   \n",
       "2       Scorpio   Neutral  20 hours ago - CarWale - Used Mahindra Scorpio...   \n",
       "3       Scorpio   Neutral  1 hour ago - The 2017 Mahindra Scorpio Getaway...   \n",
       "4       Scorpio   Neutral  19 hours ago - CarWale - Used Mahindra Scorpio...   \n",
       "...         ...       ...                                                ...   \n",
       "499738  Marazzo   Neutral  @anandmahindra https://t.co/dngwphbRES.  The p...   \n",
       "499739  Marazzo   Neutral  @anandmahindra सर आप यह गाड़ी महान है अपने देश...   \n",
       "499740  Marazzo   Neutral  Mahindra Marazzo review. The shark inspired MU...   \n",
       "499741  Marazzo   Neutral  Mahindra cars price list in India *All prices ...   \n",
       "499742  Marazzo  Negative  Sir,  1  I had taken my marazzo m8 Car   Reg N...   \n",
       "\n",
       "                                        processed_content  vader_score  \\\n",
       "0        First introduced in , the Mahindra Getaway is...       0.3612   \n",
       "1         - Used Mahindra Scorpio [-] Ex for sale in H...       0.0772   \n",
       "2         - Used Mahindra Scorpio [-] Ex for sale in H...       0.0772   \n",
       "3         - The  Mahindra Scorpio Getaway has been spo...       0.0000   \n",
       "4         - Used Mahindra Scorpio [-] VLX WD BS-III fo...       0.6633   \n",
       "...                                                   ...          ...   \n",
       "499738                                                          0.0000   \n",
       "499739   सर आप यह गाड़ी महान है अपने देश को अच्छा तोहफ...       0.3182   \n",
       "499740  Mahindra Marazzo review. The shark inspired MU...       0.7345   \n",
       "499741  Mahindra cars price list in India *All prices ...       0.8000   \n",
       "499742  Sir,    I had taken my marazzo m Car   Reg No ...      -0.0631   \n",
       "\n",
       "       vader_sentiment  TextBlob_Subjectivity  TextBlob_Polarity  \\\n",
       "0             Positive               0.202083           -0.01875   \n",
       "1             Positive               0.000000            0.00000   \n",
       "2             Positive               0.000000            0.00000   \n",
       "3              Neutral               0.000000            0.00000   \n",
       "4             Positive               0.000000            0.00000   \n",
       "...                ...                    ...                ...   \n",
       "499738         Neutral               0.000000            0.00000   \n",
       "499739        Positive               0.000000            0.00000   \n",
       "499740        Positive               0.550000            0.43750   \n",
       "499741        Positive               0.488889            0.50000   \n",
       "499742        Negative               0.428333            0.16500   \n",
       "\n",
       "       TextBlob_Sentiment  \n",
       "0                Negative  \n",
       "1                 Neutral  \n",
       "2                 Neutral  \n",
       "3                 Neutral  \n",
       "4                 Neutral  \n",
       "...                   ...  \n",
       "499738            Neutral  \n",
       "499739            Neutral  \n",
       "499740           Positive  \n",
       "499741           Positive  \n",
       "499742           Positive  \n",
       "\n",
       "[302462 rows x 9 columns]"
      ]
     },
     "execution_count": 16,
     "metadata": {},
     "output_type": "execute_result"
    }
   ],
   "source": [
    "processed_df"
   ]
  },
  {
   "cell_type": "code",
   "execution_count": 78,
   "id": "cf962847",
   "metadata": {},
   "outputs": [
    {
     "data": {
      "text/plain": [
       "'16 hours ago - First introduced in 2007, the Mahindra Getaway is due for an upgrade. The Scorpio-based pick-up is sold as Pik-Up in a few international markets like Australia#160;...'"
      ]
     },
     "execution_count": 78,
     "metadata": {},
     "output_type": "execute_result"
    }
   ],
   "source": [
    "processed_df['Content'][0]"
   ]
  },
  {
   "cell_type": "code",
   "execution_count": 17,
   "id": "61c6ede5",
   "metadata": {},
   "outputs": [],
   "source": [
    "processed_df.to_excel('result.xlsx', index=False)"
   ]
  },
  {
   "cell_type": "code",
   "execution_count": null,
   "id": "1f4708e3",
   "metadata": {},
   "outputs": [],
   "source": []
  }
 ],
 "metadata": {
  "kernelspec": {
   "display_name": "Python 3 (ipykernel)",
   "language": "python",
   "name": "python3"
  },
  "language_info": {
   "codemirror_mode": {
    "name": "ipython",
    "version": 3
   },
   "file_extension": ".py",
   "mimetype": "text/x-python",
   "name": "python",
   "nbconvert_exporter": "python",
   "pygments_lexer": "ipython3",
   "version": "3.8.12"
  }
 },
 "nbformat": 4,
 "nbformat_minor": 5
}
