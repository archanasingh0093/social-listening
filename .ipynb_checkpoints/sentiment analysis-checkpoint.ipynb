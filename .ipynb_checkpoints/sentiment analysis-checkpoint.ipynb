{
 "cells": [
  {
   "cell_type": "code",
   "execution_count": 10,
   "id": "7afe8944",
   "metadata": {},
   "outputs": [],
   "source": [
    "import pandas as pd\n",
    "import numpy as np\n",
    "import re"
   ]
  },
  {
   "cell_type": "code",
   "execution_count": 2,
   "id": "1a64eca4",
   "metadata": {},
   "outputs": [],
   "source": [
    "from vaderSentiment.vaderSentiment import SentimentIntensityAnalyzer\n",
    "\n",
    "analyzer = SentimentIntensityAnalyzer()"
   ]
  },
  {
   "cell_type": "code",
   "execution_count": 3,
   "id": "d4caffe5",
   "metadata": {},
   "outputs": [
    {
     "name": "stdout",
     "output_type": "stream",
     "text": [
      "Wall time: 3min 22s\n"
     ]
    },
    {
     "data": {
      "text/plain": [
       "(999486, 3)"
      ]
     },
     "execution_count": 3,
     "metadata": {},
     "output_type": "execute_result"
    }
   ],
   "source": [
    "%%time\n",
    "df1 = pd.read_excel('Social_Listening_Excel_SQL_JAN17_AUG20.xlsx')\n",
    "df2 = pd.read_excel('SOCIAL_LISTENING_EXCEL_SQL_SEP`20_MAY`21.xlsx')\n",
    "df = pd.concat([df1[['Brand', 'Sentiment', 'Content']], df1[['Brand', 'Sentiment', 'Content']]], ignore_index=True)\n",
    "df.shape"
   ]
  },
  {
   "cell_type": "code",
   "execution_count": 4,
   "id": "67a33861",
   "metadata": {
    "scrolled": true
   },
   "outputs": [
    {
     "data": {
      "text/html": [
       "<div>\n",
       "<style scoped>\n",
       "    .dataframe tbody tr th:only-of-type {\n",
       "        vertical-align: middle;\n",
       "    }\n",
       "\n",
       "    .dataframe tbody tr th {\n",
       "        vertical-align: top;\n",
       "    }\n",
       "\n",
       "    .dataframe thead th {\n",
       "        text-align: right;\n",
       "    }\n",
       "</style>\n",
       "<table border=\"1\" class=\"dataframe\">\n",
       "  <thead>\n",
       "    <tr style=\"text-align: right;\">\n",
       "      <th></th>\n",
       "      <th>Brand</th>\n",
       "      <th>Sentiment</th>\n",
       "      <th>Content</th>\n",
       "    </tr>\n",
       "  </thead>\n",
       "  <tbody>\n",
       "    <tr>\n",
       "      <th>0</th>\n",
       "      <td>Scorpio</td>\n",
       "      <td>Neutral</td>\n",
       "      <td>16 hours ago - First introduced in 2007, the M...</td>\n",
       "    </tr>\n",
       "    <tr>\n",
       "      <th>1</th>\n",
       "      <td>Scorpio</td>\n",
       "      <td>Neutral</td>\n",
       "      <td>1 day ago - CarWale - Used Mahindra Scorpio [2...</td>\n",
       "    </tr>\n",
       "    <tr>\n",
       "      <th>2</th>\n",
       "      <td>Scorpio</td>\n",
       "      <td>Neutral</td>\n",
       "      <td>20 hours ago - CarWale - Used Mahindra Scorpio...</td>\n",
       "    </tr>\n",
       "    <tr>\n",
       "      <th>3</th>\n",
       "      <td>Scorpio</td>\n",
       "      <td>Neutral</td>\n",
       "      <td>1 hour ago - The 2017 Mahindra Scorpio Getaway...</td>\n",
       "    </tr>\n",
       "    <tr>\n",
       "      <th>4</th>\n",
       "      <td>Scorpio</td>\n",
       "      <td>Neutral</td>\n",
       "      <td>19 hours ago - CarWale - Used Mahindra Scorpio...</td>\n",
       "    </tr>\n",
       "  </tbody>\n",
       "</table>\n",
       "</div>"
      ],
      "text/plain": [
       "     Brand Sentiment                                            Content\n",
       "0  Scorpio   Neutral  16 hours ago - First introduced in 2007, the M...\n",
       "1  Scorpio   Neutral  1 day ago - CarWale - Used Mahindra Scorpio [2...\n",
       "2  Scorpio   Neutral  20 hours ago - CarWale - Used Mahindra Scorpio...\n",
       "3  Scorpio   Neutral  1 hour ago - The 2017 Mahindra Scorpio Getaway...\n",
       "4  Scorpio   Neutral  19 hours ago - CarWale - Used Mahindra Scorpio..."
      ]
     },
     "execution_count": 4,
     "metadata": {},
     "output_type": "execute_result"
    }
   ],
   "source": [
    "df.head()"
   ]
  },
  {
   "cell_type": "code",
   "execution_count": 5,
   "id": "336cdfa7",
   "metadata": {},
   "outputs": [],
   "source": [
    "def preprocess_df(df):\n",
    "    df = df.copy()\n",
    "    df = df[~df['Content'].isna()]\n",
    "    df.drop_duplicates(subset=['Content'], inplace=True)\n",
    "    return df"
   ]
  },
  {
   "cell_type": "code",
   "execution_count": 8,
   "id": "1798be8a",
   "metadata": {},
   "outputs": [
    {
     "data": {
      "text/plain": [
       "(996706, 3)"
      ]
     },
     "execution_count": 8,
     "metadata": {},
     "output_type": "execute_result"
    }
   ],
   "source": [
    "df[~df['Content'].isna()].shape"
   ]
  },
  {
   "cell_type": "code",
   "execution_count": 9,
   "id": "91125204",
   "metadata": {},
   "outputs": [
    {
     "data": {
      "text/plain": [
       "302462"
      ]
     },
     "execution_count": 9,
     "metadata": {},
     "output_type": "execute_result"
    }
   ],
   "source": [
    "df[~df['Content'].isna()].Content.nunique()"
   ]
  },
  {
   "cell_type": "code",
   "execution_count": 6,
   "id": "f1547a74",
   "metadata": {},
   "outputs": [
    {
     "data": {
      "text/plain": [
       "(302462, 3)"
      ]
     },
     "execution_count": 6,
     "metadata": {},
     "output_type": "execute_result"
    }
   ],
   "source": [
    "processed_df = preprocess_df(df)\n",
    "processed_df.shape"
   ]
  },
  {
   "cell_type": "code",
   "execution_count": 31,
   "id": "bde50892",
   "metadata": {},
   "outputs": [],
   "source": [
    "def preprocess_text(text):\n",
    "    # remove hyperlinks\n",
    "    text = re.sub(r'https?:\\/\\/.*[\\r\\n]*', '', text)\n",
    "    # it will remove hashtags. We have to be careful here not to remove \n",
    "    # the whole hashtag because text of hashtags contains huge information. \n",
    "    # only removing the hash # sign from the word\n",
    "    text = re.sub(r'#', '', text)\n",
    "    # it will remove single numeric terms in the tweet. \n",
    "    text = re.sub(r'[0-9]', '', text)\n",
    "    text = re.sub(r'day ago - |hours ago - |hour ago|CarWale', '', text)\n",
    "    return text"
   ]
  },
  {
   "cell_type": "code",
   "execution_count": 32,
   "id": "778afdc8",
   "metadata": {},
   "outputs": [
    {
     "name": "stdout",
     "output_type": "stream",
     "text": [
      "Wall time: 2.48 s\n"
     ]
    }
   ],
   "source": [
    "%%time\n",
    "processed_df['processed_content'] = processed_df['Content'].apply(lambda x: preprocess_text(str(x)))"
   ]
  },
  {
   "cell_type": "code",
   "execution_count": 34,
   "id": "441d4791",
   "metadata": {},
   "outputs": [
    {
     "data": {
      "text/html": [
       "<div>\n",
       "<style scoped>\n",
       "    .dataframe tbody tr th:only-of-type {\n",
       "        vertical-align: middle;\n",
       "    }\n",
       "\n",
       "    .dataframe tbody tr th {\n",
       "        vertical-align: top;\n",
       "    }\n",
       "\n",
       "    .dataframe thead th {\n",
       "        text-align: right;\n",
       "    }\n",
       "</style>\n",
       "<table border=\"1\" class=\"dataframe\">\n",
       "  <thead>\n",
       "    <tr style=\"text-align: right;\">\n",
       "      <th></th>\n",
       "      <th>Brand</th>\n",
       "      <th>Sentiment</th>\n",
       "      <th>Content</th>\n",
       "      <th>processed</th>\n",
       "    </tr>\n",
       "  </thead>\n",
       "  <tbody>\n",
       "    <tr>\n",
       "      <th>0</th>\n",
       "      <td>Scorpio</td>\n",
       "      <td>Neutral</td>\n",
       "      <td>16 hours ago - First introduced in 2007, the M...</td>\n",
       "      <td>First introduced in , the Mahindra Getaway is...</td>\n",
       "    </tr>\n",
       "    <tr>\n",
       "      <th>1</th>\n",
       "      <td>Scorpio</td>\n",
       "      <td>Neutral</td>\n",
       "      <td>1 day ago - CarWale - Used Mahindra Scorpio [2...</td>\n",
       "      <td>- Used Mahindra Scorpio [-] Ex for sale in H...</td>\n",
       "    </tr>\n",
       "    <tr>\n",
       "      <th>2</th>\n",
       "      <td>Scorpio</td>\n",
       "      <td>Neutral</td>\n",
       "      <td>20 hours ago - CarWale - Used Mahindra Scorpio...</td>\n",
       "      <td>- Used Mahindra Scorpio [-] Ex for sale in H...</td>\n",
       "    </tr>\n",
       "    <tr>\n",
       "      <th>3</th>\n",
       "      <td>Scorpio</td>\n",
       "      <td>Neutral</td>\n",
       "      <td>1 hour ago - The 2017 Mahindra Scorpio Getaway...</td>\n",
       "      <td>- The  Mahindra Scorpio Getaway has been spo...</td>\n",
       "    </tr>\n",
       "    <tr>\n",
       "      <th>4</th>\n",
       "      <td>Scorpio</td>\n",
       "      <td>Neutral</td>\n",
       "      <td>19 hours ago - CarWale - Used Mahindra Scorpio...</td>\n",
       "      <td>- Used Mahindra Scorpio [-] VLX WD BS-III fo...</td>\n",
       "    </tr>\n",
       "  </tbody>\n",
       "</table>\n",
       "</div>"
      ],
      "text/plain": [
       "     Brand Sentiment                                            Content  \\\n",
       "0  Scorpio   Neutral  16 hours ago - First introduced in 2007, the M...   \n",
       "1  Scorpio   Neutral  1 day ago - CarWale - Used Mahindra Scorpio [2...   \n",
       "2  Scorpio   Neutral  20 hours ago - CarWale - Used Mahindra Scorpio...   \n",
       "3  Scorpio   Neutral  1 hour ago - The 2017 Mahindra Scorpio Getaway...   \n",
       "4  Scorpio   Neutral  19 hours ago - CarWale - Used Mahindra Scorpio...   \n",
       "\n",
       "                                           processed  \n",
       "0   First introduced in , the Mahindra Getaway is...  \n",
       "1    - Used Mahindra Scorpio [-] Ex for sale in H...  \n",
       "2    - Used Mahindra Scorpio [-] Ex for sale in H...  \n",
       "3    - The  Mahindra Scorpio Getaway has been spo...  \n",
       "4    - Used Mahindra Scorpio [-] VLX WD BS-III fo...  "
      ]
     },
     "execution_count": 34,
     "metadata": {},
     "output_type": "execute_result"
    }
   ],
   "source": [
    "processed_df.head()"
   ]
  },
  {
   "cell_type": "code",
   "execution_count": 37,
   "id": "0d497b81",
   "metadata": {},
   "outputs": [
    {
     "name": "stdout",
     "output_type": "stream",
     "text": [
      "Wall time: 1min 26s\n"
     ]
    }
   ],
   "source": [
    "%%time\n",
    "processed_df['vader_compound_score'] = processed_df['processed_content'].apply(lambda x: analyzer.polarity_scores(str(x))['compound'])"
   ]
  },
  {
   "cell_type": "code",
   "execution_count": 38,
   "id": "95c5628d",
   "metadata": {},
   "outputs": [],
   "source": [
    "processed_df['vader_sentiment'] = processed_df['vader_compound_score'].apply(lambda x: 'Positive' if x > 0 else ('Neutral' if x == 0 else 'Negative'))"
   ]
  },
  {
   "cell_type": "code",
   "execution_count": 39,
   "id": "02303ec7",
   "metadata": {},
   "outputs": [
    {
     "data": {
      "text/html": [
       "<div>\n",
       "<style scoped>\n",
       "    .dataframe tbody tr th:only-of-type {\n",
       "        vertical-align: middle;\n",
       "    }\n",
       "\n",
       "    .dataframe tbody tr th {\n",
       "        vertical-align: top;\n",
       "    }\n",
       "\n",
       "    .dataframe thead th {\n",
       "        text-align: right;\n",
       "    }\n",
       "</style>\n",
       "<table border=\"1\" class=\"dataframe\">\n",
       "  <thead>\n",
       "    <tr style=\"text-align: right;\">\n",
       "      <th></th>\n",
       "      <th>Brand</th>\n",
       "      <th>Sentiment</th>\n",
       "      <th>Content</th>\n",
       "      <th>processed</th>\n",
       "      <th>vader_compound_score</th>\n",
       "      <th>vader_sentiment</th>\n",
       "    </tr>\n",
       "  </thead>\n",
       "  <tbody>\n",
       "    <tr>\n",
       "      <th>0</th>\n",
       "      <td>Scorpio</td>\n",
       "      <td>Neutral</td>\n",
       "      <td>16 hours ago - First introduced in 2007, the M...</td>\n",
       "      <td>First introduced in , the Mahindra Getaway is...</td>\n",
       "      <td>0.3612</td>\n",
       "      <td>Positive</td>\n",
       "    </tr>\n",
       "    <tr>\n",
       "      <th>1</th>\n",
       "      <td>Scorpio</td>\n",
       "      <td>Neutral</td>\n",
       "      <td>1 day ago - CarWale - Used Mahindra Scorpio [2...</td>\n",
       "      <td>- Used Mahindra Scorpio [-] Ex for sale in H...</td>\n",
       "      <td>0.0772</td>\n",
       "      <td>Positive</td>\n",
       "    </tr>\n",
       "    <tr>\n",
       "      <th>2</th>\n",
       "      <td>Scorpio</td>\n",
       "      <td>Neutral</td>\n",
       "      <td>20 hours ago - CarWale - Used Mahindra Scorpio...</td>\n",
       "      <td>- Used Mahindra Scorpio [-] Ex for sale in H...</td>\n",
       "      <td>0.0772</td>\n",
       "      <td>Positive</td>\n",
       "    </tr>\n",
       "    <tr>\n",
       "      <th>3</th>\n",
       "      <td>Scorpio</td>\n",
       "      <td>Neutral</td>\n",
       "      <td>1 hour ago - The 2017 Mahindra Scorpio Getaway...</td>\n",
       "      <td>- The  Mahindra Scorpio Getaway has been spo...</td>\n",
       "      <td>0.0000</td>\n",
       "      <td>Neutral</td>\n",
       "    </tr>\n",
       "    <tr>\n",
       "      <th>4</th>\n",
       "      <td>Scorpio</td>\n",
       "      <td>Neutral</td>\n",
       "      <td>19 hours ago - CarWale - Used Mahindra Scorpio...</td>\n",
       "      <td>- Used Mahindra Scorpio [-] VLX WD BS-III fo...</td>\n",
       "      <td>0.6633</td>\n",
       "      <td>Positive</td>\n",
       "    </tr>\n",
       "    <tr>\n",
       "      <th>...</th>\n",
       "      <td>...</td>\n",
       "      <td>...</td>\n",
       "      <td>...</td>\n",
       "      <td>...</td>\n",
       "      <td>...</td>\n",
       "      <td>...</td>\n",
       "    </tr>\n",
       "    <tr>\n",
       "      <th>499738</th>\n",
       "      <td>Marazzo</td>\n",
       "      <td>Neutral</td>\n",
       "      <td>@anandmahindra https://t.co/dngwphbRES.  The p...</td>\n",
       "      <td>@anandmahindra</td>\n",
       "      <td>0.0000</td>\n",
       "      <td>Neutral</td>\n",
       "    </tr>\n",
       "    <tr>\n",
       "      <th>499739</th>\n",
       "      <td>Marazzo</td>\n",
       "      <td>Neutral</td>\n",
       "      <td>@anandmahindra सर आप यह गाड़ी महान है अपने देश...</td>\n",
       "      <td>@anandmahindra सर आप यह गाड़ी महान है अपने देश...</td>\n",
       "      <td>0.3182</td>\n",
       "      <td>Positive</td>\n",
       "    </tr>\n",
       "    <tr>\n",
       "      <th>499740</th>\n",
       "      <td>Marazzo</td>\n",
       "      <td>Neutral</td>\n",
       "      <td>Mahindra Marazzo review. The shark inspired MU...</td>\n",
       "      <td>Mahindra Marazzo review. The shark inspired MU...</td>\n",
       "      <td>0.7345</td>\n",
       "      <td>Positive</td>\n",
       "    </tr>\n",
       "    <tr>\n",
       "      <th>499741</th>\n",
       "      <td>Marazzo</td>\n",
       "      <td>Neutral</td>\n",
       "      <td>Mahindra cars price list in India *All prices ...</td>\n",
       "      <td>Mahindra cars price list in India *All prices ...</td>\n",
       "      <td>0.8000</td>\n",
       "      <td>Positive</td>\n",
       "    </tr>\n",
       "    <tr>\n",
       "      <th>499742</th>\n",
       "      <td>Marazzo</td>\n",
       "      <td>Negative</td>\n",
       "      <td>Sir,  1  I had taken my marazzo m8 Car   Reg N...</td>\n",
       "      <td>Sir,    I had taken my marazzo m Car   Reg No ...</td>\n",
       "      <td>-0.0631</td>\n",
       "      <td>Negative</td>\n",
       "    </tr>\n",
       "  </tbody>\n",
       "</table>\n",
       "<p>302462 rows × 6 columns</p>\n",
       "</div>"
      ],
      "text/plain": [
       "          Brand Sentiment                                            Content  \\\n",
       "0       Scorpio   Neutral  16 hours ago - First introduced in 2007, the M...   \n",
       "1       Scorpio   Neutral  1 day ago - CarWale - Used Mahindra Scorpio [2...   \n",
       "2       Scorpio   Neutral  20 hours ago - CarWale - Used Mahindra Scorpio...   \n",
       "3       Scorpio   Neutral  1 hour ago - The 2017 Mahindra Scorpio Getaway...   \n",
       "4       Scorpio   Neutral  19 hours ago - CarWale - Used Mahindra Scorpio...   \n",
       "...         ...       ...                                                ...   \n",
       "499738  Marazzo   Neutral  @anandmahindra https://t.co/dngwphbRES.  The p...   \n",
       "499739  Marazzo   Neutral  @anandmahindra सर आप यह गाड़ी महान है अपने देश...   \n",
       "499740  Marazzo   Neutral  Mahindra Marazzo review. The shark inspired MU...   \n",
       "499741  Marazzo   Neutral  Mahindra cars price list in India *All prices ...   \n",
       "499742  Marazzo  Negative  Sir,  1  I had taken my marazzo m8 Car   Reg N...   \n",
       "\n",
       "                                                processed  \\\n",
       "0        First introduced in , the Mahindra Getaway is...   \n",
       "1         - Used Mahindra Scorpio [-] Ex for sale in H...   \n",
       "2         - Used Mahindra Scorpio [-] Ex for sale in H...   \n",
       "3         - The  Mahindra Scorpio Getaway has been spo...   \n",
       "4         - Used Mahindra Scorpio [-] VLX WD BS-III fo...   \n",
       "...                                                   ...   \n",
       "499738                                    @anandmahindra    \n",
       "499739  @anandmahindra सर आप यह गाड़ी महान है अपने देश...   \n",
       "499740  Mahindra Marazzo review. The shark inspired MU...   \n",
       "499741  Mahindra cars price list in India *All prices ...   \n",
       "499742  Sir,    I had taken my marazzo m Car   Reg No ...   \n",
       "\n",
       "        vader_compound_score vader_sentiment  \n",
       "0                     0.3612        Positive  \n",
       "1                     0.0772        Positive  \n",
       "2                     0.0772        Positive  \n",
       "3                     0.0000         Neutral  \n",
       "4                     0.6633        Positive  \n",
       "...                      ...             ...  \n",
       "499738                0.0000         Neutral  \n",
       "499739                0.3182        Positive  \n",
       "499740                0.7345        Positive  \n",
       "499741                0.8000        Positive  \n",
       "499742               -0.0631        Negative  \n",
       "\n",
       "[302462 rows x 6 columns]"
      ]
     },
     "execution_count": 39,
     "metadata": {},
     "output_type": "execute_result"
    }
   ],
   "source": [
    "processed_df"
   ]
  },
  {
   "cell_type": "code",
   "execution_count": 43,
   "id": "cf962847",
   "metadata": {},
   "outputs": [
    {
     "data": {
      "text/plain": [
       "'16 hours ago - First introduced in 2007, the Mahindra Getaway is due for an upgrade. The Scorpio-based pick-up is sold as Pik-Up in a few international markets like Australia#160;...'"
      ]
     },
     "execution_count": 43,
     "metadata": {},
     "output_type": "execute_result"
    }
   ],
   "source": [
    "processed_df['Content'][0]"
   ]
  },
  {
   "cell_type": "code",
   "execution_count": null,
   "id": "61c6ede5",
   "metadata": {},
   "outputs": [],
   "source": [
    "# processed_df.to_excel('result.xlsx', index=False)"
   ]
  }
 ],
 "metadata": {
  "kernelspec": {
   "display_name": "Python 3 (ipykernel)",
   "language": "python",
   "name": "python3"
  },
  "language_info": {
   "codemirror_mode": {
    "name": "ipython",
    "version": 3
   },
   "file_extension": ".py",
   "mimetype": "text/x-python",
   "name": "python",
   "nbconvert_exporter": "python",
   "pygments_lexer": "ipython3",
   "version": "3.8.12"
  }
 },
 "nbformat": 4,
 "nbformat_minor": 5
}
