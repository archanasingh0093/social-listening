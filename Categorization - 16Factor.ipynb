{
 "cells": [
  {
   "cell_type": "code",
   "execution_count": 1,
   "id": "d2570848",
   "metadata": {},
   "outputs": [],
   "source": [
    "import pandas as pd\n",
    "import re\n",
    "import nltk\n",
    "from nltk.tokenize import word_tokenize\n",
    "lemmatizer = nltk.stem.WordNetLemmatizer()\n",
    "from nltk.corpus import stopwords \n",
    "from nltk.stem.porter import PorterStemmer\n",
    "stemmer = PorterStemmer()\n",
    "\n",
    "from io import StringIO\n",
    "import matplotlib.pyplot as plt\n",
    "from sklearn.feature_extraction.text import TfidfVectorizer\n",
    "from sklearn.feature_selection import chi2\n",
    "import numpy as np\n",
    "\n",
    "from sklearn.model_selection import train_test_split\n",
    "from sklearn.feature_extraction.text import CountVectorizer\n",
    "from sklearn.feature_extraction.text import TfidfTransformer\n",
    "from sklearn.naive_bayes import MultinomialNB\n",
    "\n",
    "from autocorrect import Speller"
   ]
  },
  {
   "cell_type": "code",
   "execution_count": 4,
   "id": "4e644253",
   "metadata": {},
   "outputs": [],
   "source": [
    "framework = pd.read_csv('framework.csv')"
   ]
  },
  {
   "cell_type": "code",
   "execution_count": 24,
   "id": "a1dc94ac",
   "metadata": {},
   "outputs": [],
   "source": [
    "df1 = pd.read_excel('Social_Listening_Excel_SQL_JAN17_AUG20.xlsx')\n",
    "df2 = pd.read_excel('SOCIAL_LISTENING_EXCEL_SQL_SEP`20_MAY`21.xlsx')\n",
    "test_data = pd.concat([df1[['Brand', 'Content']], df1[['Brand', 'Content']]], ignore_index=True)\n",
    "\n",
    "# validation_data = pd.read_excel('validation_data.xlsx')\n",
    "# validation_data = validation_data[['Sentence','Theme Identification']]"
   ]
  },
  {
   "cell_type": "code",
   "execution_count": 8,
   "id": "aca871f0",
   "metadata": {},
   "outputs": [
    {
     "data": {
      "text/html": [
       "<div>\n",
       "<style scoped>\n",
       "    .dataframe tbody tr th:only-of-type {\n",
       "        vertical-align: middle;\n",
       "    }\n",
       "\n",
       "    .dataframe tbody tr th {\n",
       "        vertical-align: top;\n",
       "    }\n",
       "\n",
       "    .dataframe thead th {\n",
       "        text-align: right;\n",
       "    }\n",
       "</style>\n",
       "<table border=\"1\" class=\"dataframe\">\n",
       "  <thead>\n",
       "    <tr style=\"text-align: right;\">\n",
       "      <th></th>\n",
       "      <th>Sentence</th>\n",
       "      <th>Theme Identification</th>\n",
       "    </tr>\n",
       "  </thead>\n",
       "  <tbody>\n",
       "    <tr>\n",
       "      <th>0</th>\n",
       "      <td>#mahindra_suv#thar#mahindra_thar @anandmahindr...</td>\n",
       "      <td>car models</td>\n",
       "    </tr>\n",
       "    <tr>\n",
       "      <th>1</th>\n",
       "      <td>sa sreejith ss mahindra #withyouhmesha</td>\n",
       "      <td>communication with mahindra</td>\n",
       "    </tr>\n",
       "    <tr>\n",
       "      <th>2</th>\n",
       "      <td>he is very helpful and explain nature of job a...</td>\n",
       "      <td>customer experience</td>\n",
       "    </tr>\n",
       "    <tr>\n",
       "      <th>3</th>\n",
       "      <td>thanks mahindra</td>\n",
       "      <td>communication with mahindra</td>\n",
       "    </tr>\n",
       "    <tr>\n",
       "      <th>4</th>\n",
       "      <td>mujhe eha ka service sacha lga main service se...</td>\n",
       "      <td>car services</td>\n",
       "    </tr>\n",
       "  </tbody>\n",
       "</table>\n",
       "</div>"
      ],
      "text/plain": [
       "                                            Sentence  \\\n",
       "0  #mahindra_suv#thar#mahindra_thar @anandmahindr...   \n",
       "1             sa sreejith ss mahindra #withyouhmesha   \n",
       "2  he is very helpful and explain nature of job a...   \n",
       "3                                    thanks mahindra   \n",
       "4  mujhe eha ka service sacha lga main service se...   \n",
       "\n",
       "          Theme Identification  \n",
       "0                   car models  \n",
       "1  communication with mahindra  \n",
       "2          customer experience  \n",
       "3  communication with mahindra  \n",
       "4                 car services  "
      ]
     },
     "execution_count": 8,
     "metadata": {},
     "output_type": "execute_result"
    }
   ],
   "source": [
    "validation_data.head()"
   ]
  },
  {
   "cell_type": "code",
   "execution_count": 25,
   "id": "3986e772",
   "metadata": {
    "scrolled": true
   },
   "outputs": [
    {
     "data": {
      "text/html": [
       "<div>\n",
       "<style scoped>\n",
       "    .dataframe tbody tr th:only-of-type {\n",
       "        vertical-align: middle;\n",
       "    }\n",
       "\n",
       "    .dataframe tbody tr th {\n",
       "        vertical-align: top;\n",
       "    }\n",
       "\n",
       "    .dataframe thead th {\n",
       "        text-align: right;\n",
       "    }\n",
       "</style>\n",
       "<table border=\"1\" class=\"dataframe\">\n",
       "  <thead>\n",
       "    <tr style=\"text-align: right;\">\n",
       "      <th></th>\n",
       "      <th>Brand</th>\n",
       "      <th>Content</th>\n",
       "    </tr>\n",
       "  </thead>\n",
       "  <tbody>\n",
       "    <tr>\n",
       "      <th>0</th>\n",
       "      <td>Scorpio</td>\n",
       "      <td>16 hours ago - First introduced in 2007, the M...</td>\n",
       "    </tr>\n",
       "    <tr>\n",
       "      <th>1</th>\n",
       "      <td>Scorpio</td>\n",
       "      <td>1 day ago - CarWale - Used Mahindra Scorpio [2...</td>\n",
       "    </tr>\n",
       "    <tr>\n",
       "      <th>2</th>\n",
       "      <td>Scorpio</td>\n",
       "      <td>20 hours ago - CarWale - Used Mahindra Scorpio...</td>\n",
       "    </tr>\n",
       "    <tr>\n",
       "      <th>3</th>\n",
       "      <td>Scorpio</td>\n",
       "      <td>1 hour ago - The 2017 Mahindra Scorpio Getaway...</td>\n",
       "    </tr>\n",
       "    <tr>\n",
       "      <th>4</th>\n",
       "      <td>Scorpio</td>\n",
       "      <td>19 hours ago - CarWale - Used Mahindra Scorpio...</td>\n",
       "    </tr>\n",
       "  </tbody>\n",
       "</table>\n",
       "</div>"
      ],
      "text/plain": [
       "     Brand                                            Content\n",
       "0  Scorpio  16 hours ago - First introduced in 2007, the M...\n",
       "1  Scorpio  1 day ago - CarWale - Used Mahindra Scorpio [2...\n",
       "2  Scorpio  20 hours ago - CarWale - Used Mahindra Scorpio...\n",
       "3  Scorpio  1 hour ago - The 2017 Mahindra Scorpio Getaway...\n",
       "4  Scorpio  19 hours ago - CarWale - Used Mahindra Scorpio..."
      ]
     },
     "execution_count": 25,
     "metadata": {},
     "output_type": "execute_result"
    }
   ],
   "source": [
    "test_data.headad()"
   ]
  },
  {
   "cell_type": "code",
   "execution_count": 26,
   "id": "4241d571",
   "metadata": {},
   "outputs": [],
   "source": [
    "def clean_text(text):\n",
    "    # remove hyperlinks\n",
    "    text = re.sub(r'https?:\\/\\/.*[\\r\\n]*', '', text)\n",
    "    # it will remove hashtags. We have to be careful here not to remove \n",
    "    # the whole hashtag because text of hashtags contains huge information. \n",
    "    # only removing the hash # sign from the word\n",
    "    text = re.sub(r'#', '', text)\n",
    "    # it will remove single numeric terms in the text. \n",
    "    text = re.sub(r'[0-9]', '', text)\n",
    "    # remove \n",
    "    text = re.sub('@[^\\s]+', '', text)\n",
    "    text = re.sub(r'day ago - |hours ago - |hour ago|CarWale', '', text)\n",
    "    return text"
   ]
  },
  {
   "cell_type": "code",
   "execution_count": 29,
   "id": "6fa9fc38",
   "metadata": {},
   "outputs": [],
   "source": [
    "def preprocess_text(text):\n",
    "    text = re.sub('[^A-Za-z ]', '', text)\n",
    "    text = text.lower()\n",
    "    tokenized_text = word_tokenize(text)\n",
    "    for word in tokenized_text:\n",
    "        if word in stopwords.words('english'):\n",
    "            tokenized_text.remove(word)\n",
    "    for i in range(len(tokenized_text)):\n",
    "        #tokenized_text[i] = stemmer.stem(Speller(tokenized_text[i]))\n",
    "        tokenized_text[i] = lemmatizer.lemmatize(tokenized_text[i])\n",
    "    text = \" \".join(tokenized_text)\n",
    "    return text\n",
    "def preprocess_df(df):\n",
    "    df = df.copy()\n",
    "    df = df[~df['Keywords'].isna()]\n",
    "    df.drop_duplicates(subset=['Keywords'], inplace=True)\n",
    "    return df\n",
    "def preprocess_test_df(df):\n",
    "    df = df.copy()\n",
    "    df = df[~df['Content'].isna()]\n",
    "    df.drop_duplicates(subset=['Content'], inplace=True)\n",
    "    return df"
   ]
  },
  {
   "cell_type": "code",
   "execution_count": 30,
   "id": "1d4f0de5",
   "metadata": {},
   "outputs": [],
   "source": [
    "test_data = preprocess_test_df(test_data)\n",
    "test_data['processed_content'] = test_data['Content'].apply(lambda x: clean_text(str(x)))\n",
    "test_data['processed_content'] = test_data['Content'].apply(lambda x: preprocess_text(str(x)))"
   ]
  },
  {
   "cell_type": "code",
   "execution_count": 31,
   "id": "d58578da",
   "metadata": {},
   "outputs": [
    {
     "data": {
      "text/html": [
       "<div>\n",
       "<style scoped>\n",
       "    .dataframe tbody tr th:only-of-type {\n",
       "        vertical-align: middle;\n",
       "    }\n",
       "\n",
       "    .dataframe tbody tr th {\n",
       "        vertical-align: top;\n",
       "    }\n",
       "\n",
       "    .dataframe thead th {\n",
       "        text-align: right;\n",
       "    }\n",
       "</style>\n",
       "<table border=\"1\" class=\"dataframe\">\n",
       "  <thead>\n",
       "    <tr style=\"text-align: right;\">\n",
       "      <th></th>\n",
       "      <th>Brand</th>\n",
       "      <th>Content</th>\n",
       "      <th>processed_content</th>\n",
       "    </tr>\n",
       "  </thead>\n",
       "  <tbody>\n",
       "    <tr>\n",
       "      <th>0</th>\n",
       "      <td>Scorpio</td>\n",
       "      <td>16 hours ago - First introduced in 2007, the M...</td>\n",
       "      <td>hour ago first introduced mahindra getaway due...</td>\n",
       "    </tr>\n",
       "    <tr>\n",
       "      <th>1</th>\n",
       "      <td>Scorpio</td>\n",
       "      <td>1 day ago - CarWale - Used Mahindra Scorpio [2...</td>\n",
       "      <td>day ago carwale used mahindra scorpio ex sale ...</td>\n",
       "    </tr>\n",
       "    <tr>\n",
       "      <th>2</th>\n",
       "      <td>Scorpio</td>\n",
       "      <td>20 hours ago - CarWale - Used Mahindra Scorpio...</td>\n",
       "      <td>hour ago carwale used mahindra scorpio ex sale...</td>\n",
       "    </tr>\n",
       "    <tr>\n",
       "      <th>3</th>\n",
       "      <td>Scorpio</td>\n",
       "      <td>1 hour ago - The 2017 Mahindra Scorpio Getaway...</td>\n",
       "      <td>hour ago mahindra scorpio getaway been spotted...</td>\n",
       "    </tr>\n",
       "    <tr>\n",
       "      <th>4</th>\n",
       "      <td>Scorpio</td>\n",
       "      <td>19 hours ago - CarWale - Used Mahindra Scorpio...</td>\n",
       "      <td>hour ago carwale used mahindra scorpio vlx wd ...</td>\n",
       "    </tr>\n",
       "  </tbody>\n",
       "</table>\n",
       "</div>"
      ],
      "text/plain": [
       "     Brand                                            Content  \\\n",
       "0  Scorpio  16 hours ago - First introduced in 2007, the M...   \n",
       "1  Scorpio  1 day ago - CarWale - Used Mahindra Scorpio [2...   \n",
       "2  Scorpio  20 hours ago - CarWale - Used Mahindra Scorpio...   \n",
       "3  Scorpio  1 hour ago - The 2017 Mahindra Scorpio Getaway...   \n",
       "4  Scorpio  19 hours ago - CarWale - Used Mahindra Scorpio...   \n",
       "\n",
       "                                   processed_content  \n",
       "0  hour ago first introduced mahindra getaway due...  \n",
       "1  day ago carwale used mahindra scorpio ex sale ...  \n",
       "2  hour ago carwale used mahindra scorpio ex sale...  \n",
       "3  hour ago mahindra scorpio getaway been spotted...  \n",
       "4  hour ago carwale used mahindra scorpio vlx wd ...  "
      ]
     },
     "execution_count": 31,
     "metadata": {},
     "output_type": "execute_result"
    }
   ],
   "source": [
    "test_data.head()"
   ]
  },
  {
   "cell_type": "code",
   "execution_count": 32,
   "id": "cc8328ff",
   "metadata": {},
   "outputs": [],
   "source": [
    "processed_df = preprocess_df(framework)\n",
    "processed_df['processed_content'] = processed_df['Keywords'].apply(lambda x: preprocess_text(str(x)))"
   ]
  },
  {
   "cell_type": "code",
   "execution_count": 33,
   "id": "b1b367dd",
   "metadata": {},
   "outputs": [
    {
     "data": {
      "text/html": [
       "<div>\n",
       "<style scoped>\n",
       "    .dataframe tbody tr th:only-of-type {\n",
       "        vertical-align: middle;\n",
       "    }\n",
       "\n",
       "    .dataframe tbody tr th {\n",
       "        vertical-align: top;\n",
       "    }\n",
       "\n",
       "    .dataframe thead th {\n",
       "        text-align: right;\n",
       "    }\n",
       "</style>\n",
       "<table border=\"1\" class=\"dataframe\">\n",
       "  <thead>\n",
       "    <tr style=\"text-align: right;\">\n",
       "      <th></th>\n",
       "      <th>Keywords</th>\n",
       "      <th>category</th>\n",
       "      <th>processed_content</th>\n",
       "    </tr>\n",
       "  </thead>\n",
       "  <tbody>\n",
       "    <tr>\n",
       "      <th>0</th>\n",
       "      <td>Off roading capability</td>\n",
       "      <td>Powerful/Spirited Performance</td>\n",
       "      <td>roading capability</td>\n",
       "    </tr>\n",
       "    <tr>\n",
       "      <th>1</th>\n",
       "      <td>Agile driving experience</td>\n",
       "      <td>Powerful/Spirited Performance</td>\n",
       "      <td>agile driving experience</td>\n",
       "    </tr>\n",
       "    <tr>\n",
       "      <th>2</th>\n",
       "      <td>Excellent acceleration</td>\n",
       "      <td>Powerful/Spirited Performance</td>\n",
       "      <td>excellent acceleration</td>\n",
       "    </tr>\n",
       "    <tr>\n",
       "      <th>3</th>\n",
       "      <td>Fun to drive</td>\n",
       "      <td>Powerful/Spirited Performance</td>\n",
       "      <td>fun drive</td>\n",
       "    </tr>\n",
       "    <tr>\n",
       "      <th>4</th>\n",
       "      <td>Stand out with exterior design</td>\n",
       "      <td>Unmissable Presence</td>\n",
       "      <td>stand with exterior design</td>\n",
       "    </tr>\n",
       "  </tbody>\n",
       "</table>\n",
       "</div>"
      ],
      "text/plain": [
       "                         Keywords                       category  \\\n",
       "0          Off roading capability  Powerful/Spirited Performance   \n",
       "1        Agile driving experience  Powerful/Spirited Performance   \n",
       "2          Excellent acceleration  Powerful/Spirited Performance   \n",
       "3                    Fun to drive  Powerful/Spirited Performance   \n",
       "4  Stand out with exterior design            Unmissable Presence   \n",
       "\n",
       "            processed_content  \n",
       "0          roading capability  \n",
       "1    agile driving experience  \n",
       "2      excellent acceleration  \n",
       "3                   fun drive  \n",
       "4  stand with exterior design  "
      ]
     },
     "execution_count": 33,
     "metadata": {},
     "output_type": "execute_result"
    }
   ],
   "source": [
    "processed_df.head()"
   ]
  },
  {
   "cell_type": "code",
   "execution_count": 34,
   "id": "1fba857f",
   "metadata": {},
   "outputs": [
    {
     "data": {
      "text/html": [
       "<div>\n",
       "<style scoped>\n",
       "    .dataframe tbody tr th:only-of-type {\n",
       "        vertical-align: middle;\n",
       "    }\n",
       "\n",
       "    .dataframe tbody tr th {\n",
       "        vertical-align: top;\n",
       "    }\n",
       "\n",
       "    .dataframe thead th {\n",
       "        text-align: right;\n",
       "    }\n",
       "</style>\n",
       "<table border=\"1\" class=\"dataframe\">\n",
       "  <thead>\n",
       "    <tr style=\"text-align: right;\">\n",
       "      <th></th>\n",
       "      <th>category</th>\n",
       "      <th>processed_content</th>\n",
       "      <th>category_id</th>\n",
       "    </tr>\n",
       "  </thead>\n",
       "  <tbody>\n",
       "    <tr>\n",
       "      <th>0</th>\n",
       "      <td>Powerful/Spirited Performance</td>\n",
       "      <td>roading capability</td>\n",
       "      <td>0</td>\n",
       "    </tr>\n",
       "    <tr>\n",
       "      <th>1</th>\n",
       "      <td>Powerful/Spirited Performance</td>\n",
       "      <td>agile driving experience</td>\n",
       "      <td>0</td>\n",
       "    </tr>\n",
       "    <tr>\n",
       "      <th>2</th>\n",
       "      <td>Powerful/Spirited Performance</td>\n",
       "      <td>excellent acceleration</td>\n",
       "      <td>0</td>\n",
       "    </tr>\n",
       "    <tr>\n",
       "      <th>3</th>\n",
       "      <td>Powerful/Spirited Performance</td>\n",
       "      <td>fun drive</td>\n",
       "      <td>0</td>\n",
       "    </tr>\n",
       "    <tr>\n",
       "      <th>4</th>\n",
       "      <td>Unmissable Presence</td>\n",
       "      <td>stand with exterior design</td>\n",
       "      <td>1</td>\n",
       "    </tr>\n",
       "  </tbody>\n",
       "</table>\n",
       "</div>"
      ],
      "text/plain": [
       "                        category           processed_content  category_id\n",
       "0  Powerful/Spirited Performance          roading capability            0\n",
       "1  Powerful/Spirited Performance    agile driving experience            0\n",
       "2  Powerful/Spirited Performance      excellent acceleration            0\n",
       "3  Powerful/Spirited Performance                   fun drive            0\n",
       "4            Unmissable Presence  stand with exterior design            1"
      ]
     },
     "execution_count": 34,
     "metadata": {},
     "output_type": "execute_result"
    }
   ],
   "source": [
    "col = ['category', 'processed_content']\n",
    "df = processed_df[col]\n",
    "df = df[pd.notnull(df['processed_content'])]\n",
    "df.columns = ['category', 'processed_content']\n",
    "df['category_id'] = df['category'].factorize()[0]\n",
    "category_id_df = df[['category', 'category_id']].drop_duplicates().sort_values('category_id')\n",
    "category_to_id = dict(category_id_df.values)\n",
    "id_to_category = dict(category_id_df[['category_id', 'category']].values)\n",
    "df.head()"
   ]
  },
  {
   "cell_type": "code",
   "execution_count": 35,
   "id": "9bba3451",
   "metadata": {},
   "outputs": [
    {
     "data": {
      "image/png": "[encoded data removed]",
      "text/plain": [
       "<Figure size 576x432 with 1 Axes>"
      ]
     },
     "metadata": {
      "needs_background": "light"
     },
     "output_type": "display_data"
    }
   ],
   "source": [
    "fig = plt.figure(figsize=(8,6))\n",
    "df.groupby('category').processed_content.count().plot.bar(ylim=0)\n",
    "plt.show()"
   ]
  },
  {
   "cell_type": "code",
   "execution_count": 36,
   "id": "ca1a13ef",
   "metadata": {},
   "outputs": [
    {
     "data": {
      "text/plain": [
       "(92, 4)"
      ]
     },
     "execution_count": 36,
     "metadata": {},
     "output_type": "execute_result"
    }
   ],
   "source": [
    "tfidf = TfidfVectorizer(sublinear_tf=True, min_df=5, norm='l2', encoding='latin-1', ngram_range=(1, 2), stop_words='english')\n",
    "features = tfidf.fit_transform(df.processed_content).toarray()\n",
    "labels = df.category_id\n",
    "features.shape"
   ]
  },
  {
   "cell_type": "code",
   "execution_count": 37,
   "id": "98100cab",
   "metadata": {},
   "outputs": [
    {
     "name": "stdout",
     "output_type": "stream",
     "text": [
      "# 'Assurance':\n",
      "  . Most correlated unigrams:\n",
      ". easy\n",
      ". driving\n",
      "  . Most correlated bigrams:\n",
      ". \n",
      "# 'Comfort':\n",
      "  . Most correlated unigrams:\n",
      ". driving\n",
      ". good\n",
      "  . Most correlated bigrams:\n",
      ". \n",
      "# 'Control':\n",
      "  . Most correlated unigrams:\n",
      ". driving\n",
      ". easy\n",
      "  . Most correlated bigrams:\n",
      ". \n",
      "# 'Convenience':\n",
      "  . Most correlated unigrams:\n",
      ". driving\n",
      ". easy\n",
      "  . Most correlated bigrams:\n",
      ". \n",
      "# 'Environment Conscious':\n",
      "  . Most correlated unigrams:\n",
      ". easy\n",
      ". driving\n",
      "  . Most correlated bigrams:\n",
      ". \n",
      "# 'Living with Intensity':\n",
      "  . Most correlated unigrams:\n",
      ". easy\n",
      ". driving\n",
      "  . Most correlated bigrams:\n",
      ". \n",
      "# 'Low Cost of Ownership':\n",
      "  . Most correlated unigrams:\n",
      ". driving\n",
      ". good\n",
      "  . Most correlated bigrams:\n",
      ". \n",
      "# 'Minimalistic':\n",
      "  . Most correlated unigrams:\n",
      ". easy\n",
      ". driving\n",
      "  . Most correlated bigrams:\n",
      ". \n",
      "# 'Powerful/Spirited Performance':\n",
      "  . Most correlated unigrams:\n",
      ". easy\n",
      ". driving\n",
      "  . Most correlated bigrams:\n",
      ". \n",
      "# 'Safety':\n",
      "  . Most correlated unigrams:\n",
      ". easy\n",
      ". driving\n",
      "  . Most correlated bigrams:\n",
      ". \n",
      "# 'Sci Fi':\n",
      "  . Most correlated unigrams:\n",
      ". service\n",
      ". driving\n",
      "  . Most correlated bigrams:\n",
      ". \n",
      "# 'Service':\n",
      "  . Most correlated unigrams:\n",
      ". driving\n",
      ". service\n",
      "  . Most correlated bigrams:\n",
      ". \n",
      "# 'Sophisticated':\n",
      "  . Most correlated unigrams:\n",
      ". driving\n",
      ". good\n",
      "  . Most correlated bigrams:\n",
      ". \n",
      "# 'Spacious':\n",
      "  . Most correlated unigrams:\n",
      ". easy\n",
      ". driving\n",
      "  . Most correlated bigrams:\n",
      ". \n",
      "# 'Status':\n",
      "  . Most correlated unigrams:\n",
      ". easy\n",
      ". driving\n",
      "  . Most correlated bigrams:\n",
      ". \n",
      "# 'Tough':\n",
      "  . Most correlated unigrams:\n",
      ". easy\n",
      ". driving\n",
      "  . Most correlated bigrams:\n",
      ". \n",
      "# 'Unmissable Presence':\n",
      "  . Most correlated unigrams:\n",
      ". service\n",
      ". easy\n",
      "  . Most correlated bigrams:\n",
      ". \n"
     ]
    }
   ],
   "source": [
    "N = 2\n",
    "for category, category_id in sorted(category_to_id.items()):\n",
    "    features_chi2 = chi2(features, labels == category_id)\n",
    "    indices = np.argsort(features_chi2[0])\n",
    "    feature_names = np.array(tfidf.get_feature_names_out())[indices]\n",
    "    unigrams = [v for v in feature_names if len(v.split(' ')) == 1]\n",
    "    bigrams = [v for v in feature_names if len(v.split(' ')) == 2]\n",
    "    print(\"# '{}':\".format(category))\n",
    "    print(\"  . Most correlated unigrams:\\n. {}\".format('\\n. '.join(unigrams[-N:])))\n",
    "    print(\"  . Most correlated bigrams:\\n. {}\".format('\\n. '.join(bigrams[-N:])))"
   ]
  },
  {
   "cell_type": "code",
   "execution_count": 38,
   "id": "984ad801",
   "metadata": {},
   "outputs": [],
   "source": [
    "X_train, X_test, y_train, y_test = train_test_split(df['processed_content'], df['category'], random_state = 0)\n",
    "count_vect = CountVectorizer()\n",
    "X_train_counts = count_vect.fit_transform(X_train)\n",
    "tfidf_transformer = TfidfTransformer()\n",
    "X_train_tfidf = tfidf_transformer.fit_transform(X_train_counts)\n",
    "clf = MultinomialNB().fit(X_train_tfidf, y_train)"
   ]
  },
  {
   "cell_type": "code",
   "execution_count": 39,
   "id": "c8121643",
   "metadata": {},
   "outputs": [
    {
     "name": "stdout",
     "output_type": "stream",
     "text": [
      "['Sci Fi']\n"
     ]
    }
   ],
   "source": [
    "print(clf.predict(count_vect.transform([\"my ride was awesome, it was so smooth\"])))"
   ]
  },
  {
   "cell_type": "code",
   "execution_count": 40,
   "id": "c11150ec",
   "metadata": {},
   "outputs": [],
   "source": [
    "test_data['Categories'] = test_data['processed_content'].apply(lambda x: clf.predict(count_vect.transform([str(x)])))"
   ]
  },
  {
   "cell_type": "code",
   "execution_count": 41,
   "id": "560f0b64",
   "metadata": {},
   "outputs": [
    {
     "data": {
      "text/html": [
       "<div>\n",
       "<style scoped>\n",
       "    .dataframe tbody tr th:only-of-type {\n",
       "        vertical-align: middle;\n",
       "    }\n",
       "\n",
       "    .dataframe tbody tr th {\n",
       "        vertical-align: top;\n",
       "    }\n",
       "\n",
       "    .dataframe thead th {\n",
       "        text-align: right;\n",
       "    }\n",
       "</style>\n",
       "<table border=\"1\" class=\"dataframe\">\n",
       "  <thead>\n",
       "    <tr style=\"text-align: right;\">\n",
       "      <th></th>\n",
       "      <th>Brand</th>\n",
       "      <th>Content</th>\n",
       "      <th>processed_content</th>\n",
       "      <th>Categories</th>\n",
       "    </tr>\n",
       "  </thead>\n",
       "  <tbody>\n",
       "    <tr>\n",
       "      <th>0</th>\n",
       "      <td>Scorpio</td>\n",
       "      <td>16 hours ago - First introduced in 2007, the M...</td>\n",
       "      <td>hour ago first introduced mahindra getaway due...</td>\n",
       "      <td>[Service]</td>\n",
       "    </tr>\n",
       "    <tr>\n",
       "      <th>1</th>\n",
       "      <td>Scorpio</td>\n",
       "      <td>1 day ago - CarWale - Used Mahindra Scorpio [2...</td>\n",
       "      <td>day ago carwale used mahindra scorpio ex sale ...</td>\n",
       "      <td>[Convenience]</td>\n",
       "    </tr>\n",
       "    <tr>\n",
       "      <th>2</th>\n",
       "      <td>Scorpio</td>\n",
       "      <td>20 hours ago - CarWale - Used Mahindra Scorpio...</td>\n",
       "      <td>hour ago carwale used mahindra scorpio ex sale...</td>\n",
       "      <td>[Convenience]</td>\n",
       "    </tr>\n",
       "    <tr>\n",
       "      <th>3</th>\n",
       "      <td>Scorpio</td>\n",
       "      <td>1 hour ago - The 2017 Mahindra Scorpio Getaway...</td>\n",
       "      <td>hour ago mahindra scorpio getaway been spotted...</td>\n",
       "      <td>[Convenience]</td>\n",
       "    </tr>\n",
       "    <tr>\n",
       "      <th>4</th>\n",
       "      <td>Scorpio</td>\n",
       "      <td>19 hours ago - CarWale - Used Mahindra Scorpio...</td>\n",
       "      <td>hour ago carwale used mahindra scorpio vlx wd ...</td>\n",
       "      <td>[Convenience]</td>\n",
       "    </tr>\n",
       "    <tr>\n",
       "      <th>...</th>\n",
       "      <td>...</td>\n",
       "      <td>...</td>\n",
       "      <td>...</td>\n",
       "      <td>...</td>\n",
       "    </tr>\n",
       "    <tr>\n",
       "      <th>499738</th>\n",
       "      <td>Marazzo</td>\n",
       "      <td>@anandmahindra https://t.co/dngwphbRES.  The p...</td>\n",
       "      <td>anandmahindra httpstcodngwphbres person singin...</td>\n",
       "      <td>[Convenience]</td>\n",
       "    </tr>\n",
       "    <tr>\n",
       "      <th>499739</th>\n",
       "      <td>Marazzo</td>\n",
       "      <td>@anandmahindra सर आप यह गाड़ी महान है अपने देश...</td>\n",
       "      <td>anandmahindra please mahindra marazzo ambulanc...</td>\n",
       "      <td>[Convenience]</td>\n",
       "    </tr>\n",
       "    <tr>\n",
       "      <th>499740</th>\n",
       "      <td>Marazzo</td>\n",
       "      <td>Mahindra Marazzo review. The shark inspired MU...</td>\n",
       "      <td>mahindra marazzo review shark inspired muv is ...</td>\n",
       "      <td>[Convenience]</td>\n",
       "    </tr>\n",
       "    <tr>\n",
       "      <th>499741</th>\n",
       "      <td>Marazzo</td>\n",
       "      <td>Mahindra cars price list in India *All prices ...</td>\n",
       "      <td>mahindra car price list india price ex showroo...</td>\n",
       "      <td>[Unmissable Presence]</td>\n",
       "    </tr>\n",
       "    <tr>\n",
       "      <th>499742</th>\n",
       "      <td>Marazzo</td>\n",
       "      <td>Sir,  1  I had taken my marazzo m8 Car   Reg N...</td>\n",
       "      <td>sir had taken marazzo car reg c it first servi...</td>\n",
       "      <td>[Service]</td>\n",
       "    </tr>\n",
       "  </tbody>\n",
       "</table>\n",
       "<p>302462 rows × 4 columns</p>\n",
       "</div>"
      ],
      "text/plain": [
       "          Brand                                            Content  \\\n",
       "0       Scorpio  16 hours ago - First introduced in 2007, the M...   \n",
       "1       Scorpio  1 day ago - CarWale - Used Mahindra Scorpio [2...   \n",
       "2       Scorpio  20 hours ago - CarWale - Used Mahindra Scorpio...   \n",
       "3       Scorpio  1 hour ago - The 2017 Mahindra Scorpio Getaway...   \n",
       "4       Scorpio  19 hours ago - CarWale - Used Mahindra Scorpio...   \n",
       "...         ...                                                ...   \n",
       "499738  Marazzo  @anandmahindra https://t.co/dngwphbRES.  The p...   \n",
       "499739  Marazzo  @anandmahindra सर आप यह गाड़ी महान है अपने देश...   \n",
       "499740  Marazzo  Mahindra Marazzo review. The shark inspired MU...   \n",
       "499741  Marazzo  Mahindra cars price list in India *All prices ...   \n",
       "499742  Marazzo  Sir,  1  I had taken my marazzo m8 Car   Reg N...   \n",
       "\n",
       "                                        processed_content  \\\n",
       "0       hour ago first introduced mahindra getaway due...   \n",
       "1       day ago carwale used mahindra scorpio ex sale ...   \n",
       "2       hour ago carwale used mahindra scorpio ex sale...   \n",
       "3       hour ago mahindra scorpio getaway been spotted...   \n",
       "4       hour ago carwale used mahindra scorpio vlx wd ...   \n",
       "...                                                   ...   \n",
       "499738  anandmahindra httpstcodngwphbres person singin...   \n",
       "499739  anandmahindra please mahindra marazzo ambulanc...   \n",
       "499740  mahindra marazzo review shark inspired muv is ...   \n",
       "499741  mahindra car price list india price ex showroo...   \n",
       "499742  sir had taken marazzo car reg c it first servi...   \n",
       "\n",
       "                   Categories  \n",
       "0                   [Service]  \n",
       "1               [Convenience]  \n",
       "2               [Convenience]  \n",
       "3               [Convenience]  \n",
       "4               [Convenience]  \n",
       "...                       ...  \n",
       "499738          [Convenience]  \n",
       "499739          [Convenience]  \n",
       "499740          [Convenience]  \n",
       "499741  [Unmissable Presence]  \n",
       "499742              [Service]  \n",
       "\n",
       "[302462 rows x 4 columns]"
      ]
     },
     "execution_count": 41,
     "metadata": {},
     "output_type": "execute_result"
    }
   ],
   "source": [
    "test_data"
   ]
  },
  {
   "cell_type": "code",
   "execution_count": 42,
   "id": "5741cc66",
   "metadata": {},
   "outputs": [],
   "source": [
    "test_data.to_excel('category_result_on_social_studio_data.xlsx')"
   ]
  },
  {
   "cell_type": "code",
   "execution_count": 84,
   "id": "f80beaab",
   "metadata": {},
   "outputs": [],
   "source": [
    "from sklearn.linear_model import LogisticRegression\n",
    "from sklearn.ensemble import RandomForestClassifier\n",
    "from sklearn.svm import LinearSVC\n",
    "from sklearn.model_selection import cross_val_score"
   ]
  },
  {
   "cell_type": "code",
   "execution_count": 87,
   "id": "84e8a917",
   "metadata": {},
   "outputs": [
    {
     "name": "stderr",
     "output_type": "stream",
     "text": [
      "c:\\users\\archana\\anaconda3\\envs\\social-env\\lib\\site-packages\\sklearn\\model_selection\\_split.py:676: UserWarning: The least populated class in y has only 2 members, which is less than n_splits=5.\n",
      "  warnings.warn(\n",
      "c:\\users\\archana\\anaconda3\\envs\\social-env\\lib\\site-packages\\sklearn\\model_selection\\_split.py:676: UserWarning: The least populated class in y has only 2 members, which is less than n_splits=5.\n",
      "  warnings.warn(\n",
      "c:\\users\\archana\\anaconda3\\envs\\social-env\\lib\\site-packages\\sklearn\\model_selection\\_split.py:676: UserWarning: The least populated class in y has only 2 members, which is less than n_splits=5.\n",
      "  warnings.warn(\n",
      "c:\\users\\archana\\anaconda3\\envs\\social-env\\lib\\site-packages\\sklearn\\model_selection\\_split.py:676: UserWarning: The least populated class in y has only 2 members, which is less than n_splits=5.\n",
      "  warnings.warn(\n"
     ]
    },
    {
     "data": {
      "image/png": "[encoded data removed]",
      "text/plain": [
       "<Figure size 432x288 with 1 Axes>"
      ]
     },
     "metadata": {
      "needs_background": "light"
     },
     "output_type": "display_data"
    }
   ],
   "source": [
    "models = [\n",
    "    RandomForestClassifier(n_estimators=200, max_depth=3, random_state=0),\n",
    "    LinearSVC(),\n",
    "    MultinomialNB(),\n",
    "    LogisticRegression(random_state=0),\n",
    "]\n",
    "CV = 5\n",
    "cv_df = pd.DataFrame(index=range(CV * len(models)))\n",
    "entries = []\n",
    "for model in models:\n",
    "  model_name = model.__class__.__name__\n",
    "  accuracies = cross_val_score(model, features, labels, scoring='accuracy', cv=CV)\n",
    "  for fold_idx, accuracy in enumerate(accuracies):\n",
    "    entries.append((model_name, fold_idx, accuracy))\n",
    "cv_df = pd.DataFrame(entries, columns=['model_name', 'fold_idx', 'accuracy'])\n",
    "import seaborn as sns\n",
    "sns.boxplot(x='model_name', y='accuracy', data=cv_df)\n",
    "sns.stripplot(x='model_name', y='accuracy', data=cv_df, \n",
    "              size=8, jitter=True, edgecolor=\"gray\", linewidth=2)\n",
    "plt.show()"
   ]
  },
  {
   "cell_type": "code",
   "execution_count": 88,
   "id": "01cca5a7",
   "metadata": {},
   "outputs": [
    {
     "data": {
      "text/plain": [
       "model_name\n",
       "LinearSVC                 0.203676\n",
       "LogisticRegression        0.227206\n",
       "MultinomialNB             0.227206\n",
       "RandomForestClassifier    0.203676\n",
       "Name: accuracy, dtype: float64"
      ]
     },
     "execution_count": 88,
     "metadata": {},
     "output_type": "execute_result"
    }
   ],
   "source": [
    "cv_df.groupby('model_name').accuracy.mean()"
   ]
  },
  {
   "cell_type": "code",
   "execution_count": 92,
   "id": "1b68e2da",
   "metadata": {},
   "outputs": [
    {
     "data": {
      "image/png": "[encoded data removed]",
      "text/plain": [
       "<Figure size 720x720 with 2 Axes>"
      ]
     },
     "metadata": {
      "needs_background": "light"
     },
     "output_type": "display_data"
    }
   ],
   "source": [
    "model = LogisticRegression()\n",
    "X_train, X_test, y_train, y_test, indices_train, indices_test = train_test_split(features, labels, df.index, test_size=0.33, random_state=0)\n",
    "model.fit(X_train, y_train)\n",
    "y_pred = model.predict(X_test)\n",
    "from sklearn.metrics import confusion_matrix\n",
    "conf_mat = confusion_matrix(y_test, y_pred)\n",
    "fig, ax = plt.subplots(figsize=(10,10))\n",
    "sns.heatmap(conf_mat, annot=True, fmt='d',\n",
    "            xticklabels=category_id_df.category.values, yticklabels=category_id_df.category.values)\n",
    "plt.ylabel('Actual')\n",
    "plt.xlabel('Predicted')\n",
    "plt.show()"
   ]
  },
  {
   "cell_type": "code",
   "execution_count": 91,
   "id": "d0ddb928",
   "metadata": {},
   "outputs": [
    {
     "ename": "IndexError",
     "evalue": "index 15 is out of bounds for axis 0 with size 15",
     "output_type": "error",
     "traceback": [
      "\u001b[1;31m---------------------------------------------------------------------------\u001b[0m",
      "\u001b[1;31mIndexError\u001b[0m                                Traceback (most recent call last)",
      "\u001b[1;32m~\\AppData\\Local\\Temp/ipykernel_6200/2066210038.py\u001b[0m in \u001b[0;36m<module>\u001b[1;34m\u001b[0m\n\u001b[0;32m      2\u001b[0m \u001b[1;32mfor\u001b[0m \u001b[0mpredicted\u001b[0m \u001b[1;32min\u001b[0m \u001b[0mcategory_id_df\u001b[0m\u001b[1;33m.\u001b[0m\u001b[0mcategory_id\u001b[0m\u001b[1;33m:\u001b[0m\u001b[1;33m\u001b[0m\u001b[1;33m\u001b[0m\u001b[0m\n\u001b[0;32m      3\u001b[0m   \u001b[1;32mfor\u001b[0m \u001b[0mactual\u001b[0m \u001b[1;32min\u001b[0m \u001b[0mcategory_id_df\u001b[0m\u001b[1;33m.\u001b[0m\u001b[0mcategory_id\u001b[0m\u001b[1;33m:\u001b[0m\u001b[1;33m\u001b[0m\u001b[1;33m\u001b[0m\u001b[0m\n\u001b[1;32m----> 4\u001b[1;33m     \u001b[1;32mif\u001b[0m \u001b[0mpredicted\u001b[0m \u001b[1;33m!=\u001b[0m \u001b[0mactual\u001b[0m \u001b[1;32mand\u001b[0m \u001b[0mconf_mat\u001b[0m\u001b[1;33m[\u001b[0m\u001b[0mactual\u001b[0m\u001b[1;33m,\u001b[0m \u001b[0mpredicted\u001b[0m\u001b[1;33m]\u001b[0m \u001b[1;33m>=\u001b[0m \u001b[1;36m10\u001b[0m\u001b[1;33m:\u001b[0m\u001b[1;33m\u001b[0m\u001b[1;33m\u001b[0m\u001b[0m\n\u001b[0m\u001b[0;32m      5\u001b[0m       \u001b[0mprint\u001b[0m\u001b[1;33m(\u001b[0m\u001b[1;34m\"'{}' predicted as '{}' : {} examples.\"\u001b[0m\u001b[1;33m.\u001b[0m\u001b[0mformat\u001b[0m\u001b[1;33m(\u001b[0m\u001b[0mid_to_category\u001b[0m\u001b[1;33m[\u001b[0m\u001b[0mactual\u001b[0m\u001b[1;33m]\u001b[0m\u001b[1;33m,\u001b[0m \u001b[0mid_to_category\u001b[0m\u001b[1;33m[\u001b[0m\u001b[0mpredicted\u001b[0m\u001b[1;33m]\u001b[0m\u001b[1;33m,\u001b[0m \u001b[0mconf_mat\u001b[0m\u001b[1;33m[\u001b[0m\u001b[0mactual\u001b[0m\u001b[1;33m,\u001b[0m \u001b[0mpredicted\u001b[0m\u001b[1;33m]\u001b[0m\u001b[1;33m)\u001b[0m\u001b[1;33m)\u001b[0m\u001b[1;33m\u001b[0m\u001b[1;33m\u001b[0m\u001b[0m\n\u001b[0;32m      6\u001b[0m       \u001b[0mdisplay\u001b[0m\u001b[1;33m(\u001b[0m\u001b[0mdf\u001b[0m\u001b[1;33m.\u001b[0m\u001b[0mloc\u001b[0m\u001b[1;33m[\u001b[0m\u001b[0mindices_test\u001b[0m\u001b[1;33m[\u001b[0m\u001b[1;33m(\u001b[0m\u001b[0my_test\u001b[0m \u001b[1;33m==\u001b[0m \u001b[0mactual\u001b[0m\u001b[1;33m)\u001b[0m \u001b[1;33m&\u001b[0m \u001b[1;33m(\u001b[0m\u001b[0my_pred\u001b[0m \u001b[1;33m==\u001b[0m \u001b[0mpredicted\u001b[0m\u001b[1;33m)\u001b[0m\u001b[1;33m]\u001b[0m\u001b[1;33m]\u001b[0m\u001b[1;33m[\u001b[0m\u001b[1;33m[\u001b[0m\u001b[1;34m'category'\u001b[0m\u001b[1;33m,\u001b[0m \u001b[1;34m'processed_content'\u001b[0m\u001b[1;33m]\u001b[0m\u001b[1;33m]\u001b[0m\u001b[1;33m)\u001b[0m\u001b[1;33m\u001b[0m\u001b[1;33m\u001b[0m\u001b[0m\n",
      "\u001b[1;31mIndexError\u001b[0m: index 15 is out of bounds for axis 0 with size 15"
     ]
    }
   ],
   "source": []
  },
  {
   "cell_type": "code",
   "execution_count": null,
   "id": "86ec39bd",
   "metadata": {},
   "outputs": [],
   "source": []
  }
 ],
 "metadata": {
  "kernelspec": {
   "display_name": "Python 3 (ipykernel)",
   "language": "python",
   "name": "python3"
  },
  "language_info": {
   "codemirror_mode": {
    "name": "ipython",
    "version": 3
   },
   "file_extension": ".py",
   "mimetype": "text/x-python",
   "name": "python",
   "nbconvert_exporter": "python",
   "pygments_lexer": "ipython3",
   "version": "3.8.12"
  }
 },
 "nbformat": 4,
 "nbformat_minor": 5
}
